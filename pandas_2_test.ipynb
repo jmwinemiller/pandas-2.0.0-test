{
 "cells": [
  {
   "cell_type": "markdown",
   "metadata": {},
   "source": [
    "# Testing Pandas 2.0.0rc0\n",
    "### Examining the difference in performance in Pandas when using PyArrow backend vs Numpy backend and PyArrow backend vs Polars"
   ]
  },
  {
   "cell_type": "markdown",
   "metadata": {},
   "source": [
    "## Loading required packages and testing versions"
   ]
  },
  {
   "cell_type": "code",
   "execution_count": 1,
   "metadata": {},
   "outputs": [
    {
     "name": "stdout",
     "output_type": "stream",
     "text": [
      "numpy 1.24.2\n",
      "pandas 2.0.0rc0\n",
      "polars 0.16.11\n"
     ]
    }
   ],
   "source": [
    "import numpy as np\n",
    "import pandas\n",
    "import pandas as pd\n",
    "import polars as pl\n",
    "\n",
    "print(f\"numpy {np.__version__}\")\n",
    "print(f\"pandas {pd.__version__}\")\n",
    "print(f\"polars {pl.__version__}\")"
   ]
  },
  {
   "cell_type": "markdown",
   "metadata": {},
   "source": [
    "## Reading data with Pandas - Numpy backend"
   ]
  },
  {
   "cell_type": "markdown",
   "metadata": {},
   "source": [
    "## Loading Electric Vehicle Dataset"
   ]
  },
  {
   "cell_type": "code",
   "execution_count": 2,
   "metadata": {},
   "outputs": [],
   "source": [
    "%timeit\n",
    "df = pd.read_csv(\"data/Electric_Vehicle_Population_Data.csv\")"
   ]
  },
  {
   "cell_type": "code",
   "execution_count": 3,
   "metadata": {},
   "outputs": [
    {
     "data": {
      "text/plain": "   VIN (1-10)     County        City State  Postal Code  Model Year    Make   \n0  5YJ3E1EA8J  San Diego   Oceanside    CA      92051.0        2018   TESLA  \\\n1  3FA6P0PU7H   Sedgwick       Derby    KS      67037.0        2017    FORD   \n2  1N4AZ0CP8D  Snohomish  Marysville    WA      98271.0        2013  NISSAN   \n3  WBY8P8C58K     Kitsap   Bremerton    WA      98337.0        2019     BMW   \n4  5YJ3E1EA7K  Snohomish     Edmonds    WA      98026.0        2019   TESLA   \n\n     Model                   Electric Vehicle Type   \n0  MODEL 3          Battery Electric Vehicle (BEV)  \\\n1   FUSION  Plug-in Hybrid Electric Vehicle (PHEV)   \n2     LEAF          Battery Electric Vehicle (BEV)   \n3       I3  Plug-in Hybrid Electric Vehicle (PHEV)   \n4  MODEL 3          Battery Electric Vehicle (BEV)   \n\n  Clean Alternative Fuel Vehicle (CAFV) Eligibility  Electric Range   \n0           Clean Alternative Fuel Vehicle Eligible             215  \\\n1             Not eligible due to low battery range              21   \n2           Clean Alternative Fuel Vehicle Eligible              75   \n3           Clean Alternative Fuel Vehicle Eligible             126   \n4           Clean Alternative Fuel Vehicle Eligible             220   \n\n   Base MSRP  Legislative District  DOL Vehicle ID   \n0          0                   NaN       153998050  \\\n1          0                   NaN       138214331   \n2          0                  38.0         3129059   \n3          0                  26.0       166525635   \n4          0                  32.0       475248315   \n\n              Vehicle Location        Electric Utility  2020 Census Tract  \n0                          NaN                     NaN       6.073019e+09  \n1   POINT (-97.27013 37.54531)                     NaN       2.017301e+10  \n2  POINT (-122.19388 48.15353)  PUGET SOUND ENERGY INC       5.306105e+10  \n3    POINT (-122.62749 47.565)  PUGET SOUND ENERGY INC       5.303508e+10  \n4  POINT (-122.31768 47.87166)  PUGET SOUND ENERGY INC       5.306105e+10  ",
      "text/html": "<div>\n<style scoped>\n    .dataframe tbody tr th:only-of-type {\n        vertical-align: middle;\n    }\n\n    .dataframe tbody tr th {\n        vertical-align: top;\n    }\n\n    .dataframe thead th {\n        text-align: right;\n    }\n</style>\n<table border=\"1\" class=\"dataframe\">\n  <thead>\n    <tr style=\"text-align: right;\">\n      <th></th>\n      <th>VIN (1-10)</th>\n      <th>County</th>\n      <th>City</th>\n      <th>State</th>\n      <th>Postal Code</th>\n      <th>Model Year</th>\n      <th>Make</th>\n      <th>Model</th>\n      <th>Electric Vehicle Type</th>\n      <th>Clean Alternative Fuel Vehicle (CAFV) Eligibility</th>\n      <th>Electric Range</th>\n      <th>Base MSRP</th>\n      <th>Legislative District</th>\n      <th>DOL Vehicle ID</th>\n      <th>Vehicle Location</th>\n      <th>Electric Utility</th>\n      <th>2020 Census Tract</th>\n    </tr>\n  </thead>\n  <tbody>\n    <tr>\n      <th>0</th>\n      <td>5YJ3E1EA8J</td>\n      <td>San Diego</td>\n      <td>Oceanside</td>\n      <td>CA</td>\n      <td>92051.0</td>\n      <td>2018</td>\n      <td>TESLA</td>\n      <td>MODEL 3</td>\n      <td>Battery Electric Vehicle (BEV)</td>\n      <td>Clean Alternative Fuel Vehicle Eligible</td>\n      <td>215</td>\n      <td>0</td>\n      <td>NaN</td>\n      <td>153998050</td>\n      <td>NaN</td>\n      <td>NaN</td>\n      <td>6.073019e+09</td>\n    </tr>\n    <tr>\n      <th>1</th>\n      <td>3FA6P0PU7H</td>\n      <td>Sedgwick</td>\n      <td>Derby</td>\n      <td>KS</td>\n      <td>67037.0</td>\n      <td>2017</td>\n      <td>FORD</td>\n      <td>FUSION</td>\n      <td>Plug-in Hybrid Electric Vehicle (PHEV)</td>\n      <td>Not eligible due to low battery range</td>\n      <td>21</td>\n      <td>0</td>\n      <td>NaN</td>\n      <td>138214331</td>\n      <td>POINT (-97.27013 37.54531)</td>\n      <td>NaN</td>\n      <td>2.017301e+10</td>\n    </tr>\n    <tr>\n      <th>2</th>\n      <td>1N4AZ0CP8D</td>\n      <td>Snohomish</td>\n      <td>Marysville</td>\n      <td>WA</td>\n      <td>98271.0</td>\n      <td>2013</td>\n      <td>NISSAN</td>\n      <td>LEAF</td>\n      <td>Battery Electric Vehicle (BEV)</td>\n      <td>Clean Alternative Fuel Vehicle Eligible</td>\n      <td>75</td>\n      <td>0</td>\n      <td>38.0</td>\n      <td>3129059</td>\n      <td>POINT (-122.19388 48.15353)</td>\n      <td>PUGET SOUND ENERGY INC</td>\n      <td>5.306105e+10</td>\n    </tr>\n    <tr>\n      <th>3</th>\n      <td>WBY8P8C58K</td>\n      <td>Kitsap</td>\n      <td>Bremerton</td>\n      <td>WA</td>\n      <td>98337.0</td>\n      <td>2019</td>\n      <td>BMW</td>\n      <td>I3</td>\n      <td>Plug-in Hybrid Electric Vehicle (PHEV)</td>\n      <td>Clean Alternative Fuel Vehicle Eligible</td>\n      <td>126</td>\n      <td>0</td>\n      <td>26.0</td>\n      <td>166525635</td>\n      <td>POINT (-122.62749 47.565)</td>\n      <td>PUGET SOUND ENERGY INC</td>\n      <td>5.303508e+10</td>\n    </tr>\n    <tr>\n      <th>4</th>\n      <td>5YJ3E1EA7K</td>\n      <td>Snohomish</td>\n      <td>Edmonds</td>\n      <td>WA</td>\n      <td>98026.0</td>\n      <td>2019</td>\n      <td>TESLA</td>\n      <td>MODEL 3</td>\n      <td>Battery Electric Vehicle (BEV)</td>\n      <td>Clean Alternative Fuel Vehicle Eligible</td>\n      <td>220</td>\n      <td>0</td>\n      <td>32.0</td>\n      <td>475248315</td>\n      <td>POINT (-122.31768 47.87166)</td>\n      <td>PUGET SOUND ENERGY INC</td>\n      <td>5.306105e+10</td>\n    </tr>\n  </tbody>\n</table>\n</div>"
     },
     "execution_count": 3,
     "metadata": {},
     "output_type": "execute_result"
    }
   ],
   "source": [
    "df.head()\n"
   ]
  },
  {
   "cell_type": "code",
   "execution_count": 4,
   "metadata": {},
   "outputs": [
    {
     "data": {
      "text/plain": "VIN (1-10)                                           118959\nCounty                                               118957\nCity                                                 118957\nState                                                118959\nPostal Code                                          118957\nModel Year                                           118959\nMake                                                 118959\nModel                                                118826\nElectric Vehicle Type                                118959\nClean Alternative Fuel Vehicle (CAFV) Eligibility    118959\nElectric Range                                       118959\nBase MSRP                                            118959\nLegislative District                                 118665\nDOL Vehicle ID                                       118959\nVehicle Location                                     118926\nElectric Utility                                     118497\n2020 Census Tract                                    118957\ndtype: int64"
     },
     "execution_count": 4,
     "metadata": {},
     "output_type": "execute_result"
    }
   ],
   "source": [
    "df.count()"
   ]
  },
  {
   "cell_type": "code",
   "execution_count": 5,
   "metadata": {},
   "outputs": [
    {
     "name": "stdout",
     "output_type": "stream",
     "text": [
      "<class 'pandas.core.frame.DataFrame'>\n",
      "RangeIndex: 118959 entries, 0 to 118958\n",
      "Data columns (total 17 columns):\n",
      " #   Column                                             Non-Null Count   Dtype  \n",
      "---  ------                                             --------------   -----  \n",
      " 0   VIN (1-10)                                         118959 non-null  object \n",
      " 1   County                                             118957 non-null  object \n",
      " 2   City                                               118957 non-null  object \n",
      " 3   State                                              118959 non-null  object \n",
      " 4   Postal Code                                        118957 non-null  float64\n",
      " 5   Model Year                                         118959 non-null  int64  \n",
      " 6   Make                                               118959 non-null  object \n",
      " 7   Model                                              118826 non-null  object \n",
      " 8   Electric Vehicle Type                              118959 non-null  object \n",
      " 9   Clean Alternative Fuel Vehicle (CAFV) Eligibility  118959 non-null  object \n",
      " 10  Electric Range                                     118959 non-null  int64  \n",
      " 11  Base MSRP                                          118959 non-null  int64  \n",
      " 12  Legislative District                               118665 non-null  float64\n",
      " 13  DOL Vehicle ID                                     118959 non-null  int64  \n",
      " 14  Vehicle Location                                   118926 non-null  object \n",
      " 15  Electric Utility                                   118497 non-null  object \n",
      " 16  2020 Census Tract                                  118957 non-null  float64\n",
      "dtypes: float64(3), int64(4), object(10)\n",
      "memory usage: 15.4+ MB\n"
     ]
    }
   ],
   "source": [
    "df.info()"
   ]
  },
  {
   "cell_type": "markdown",
   "metadata": {},
   "source": [
    "## Test backend object"
   ]
  },
  {
   "cell_type": "code",
   "execution_count": 6,
   "metadata": {},
   "outputs": [
    {
     "data": {
      "text/plain": "array([92051., 67037., 98271., ..., 98052., 98109., 98282.])"
     },
     "execution_count": 6,
     "metadata": {},
     "output_type": "execute_result"
    }
   ],
   "source": [
    "df[\"Postal Code\"].values"
   ]
  },
  {
   "cell_type": "markdown",
   "metadata": {},
   "source": [
    "## Numpy Backend\n",
    "Resulting in a **float64** due to null values"
   ]
  },
  {
   "cell_type": "code",
   "execution_count": 7,
   "metadata": {},
   "outputs": [
    {
     "data": {
      "text/plain": "numpy.ndarray"
     },
     "execution_count": 7,
     "metadata": {},
     "output_type": "execute_result"
    }
   ],
   "source": [
    "type(df[\"Postal Code\"].values)"
   ]
  },
  {
   "cell_type": "markdown",
   "metadata": {},
   "source": [
    "## Using the PyArrow Backend"
   ]
  },
  {
   "cell_type": "code",
   "execution_count": 8,
   "metadata": {},
   "outputs": [],
   "source": [
    "pd.options.mode.dtype_backend = \"pyarrow\""
   ]
  },
  {
   "cell_type": "code",
   "execution_count": 9,
   "metadata": {},
   "outputs": [],
   "source": [
    "df_v2 = pd.read_csv(\"data/Electric_Vehicle_Population_Data.csv\", use_nullable_dtypes=True)"
   ]
  },
  {
   "cell_type": "code",
   "execution_count": 10,
   "metadata": {},
   "outputs": [
    {
     "data": {
      "text/plain": "VIN (1-10)                                           118959\nCounty                                               118957\nCity                                                 118957\nState                                                118959\nPostal Code                                          118957\nModel Year                                           118959\nMake                                                 118959\nModel                                                118826\nElectric Vehicle Type                                118959\nClean Alternative Fuel Vehicle (CAFV) Eligibility    118959\nElectric Range                                       118959\nBase MSRP                                            118959\nLegislative District                                 118665\nDOL Vehicle ID                                       118959\nVehicle Location                                     118926\nElectric Utility                                     118497\n2020 Census Tract                                    118957\ndtype: int64"
     },
     "execution_count": 10,
     "metadata": {},
     "output_type": "execute_result"
    }
   ],
   "source": [
    "df_v2.count()"
   ]
  },
  {
   "cell_type": "markdown",
   "source": [],
   "metadata": {
    "collapsed": false
   }
  },
  {
   "cell_type": "code",
   "execution_count": 11,
   "metadata": {},
   "outputs": [
    {
     "name": "stdout",
     "output_type": "stream",
     "text": [
      "<class 'pandas.core.frame.DataFrame'>\n",
      "RangeIndex: 118959 entries, 0 to 118958\n",
      "Data columns (total 17 columns):\n",
      " #   Column                                             Non-Null Count   Dtype          \n",
      "---  ------                                             --------------   -----          \n",
      " 0   VIN (1-10)                                         118959 non-null  string[pyarrow]\n",
      " 1   County                                             118957 non-null  string[pyarrow]\n",
      " 2   City                                               118957 non-null  string[pyarrow]\n",
      " 3   State                                              118959 non-null  string[pyarrow]\n",
      " 4   Postal Code                                        118957 non-null  int64[pyarrow] \n",
      " 5   Model Year                                         118959 non-null  int64[pyarrow] \n",
      " 6   Make                                               118959 non-null  string[pyarrow]\n",
      " 7   Model                                              118826 non-null  string[pyarrow]\n",
      " 8   Electric Vehicle Type                              118959 non-null  string[pyarrow]\n",
      " 9   Clean Alternative Fuel Vehicle (CAFV) Eligibility  118959 non-null  string[pyarrow]\n",
      " 10  Electric Range                                     118959 non-null  int64[pyarrow] \n",
      " 11  Base MSRP                                          118959 non-null  int64[pyarrow] \n",
      " 12  Legislative District                               118665 non-null  int64[pyarrow] \n",
      " 13  DOL Vehicle ID                                     118959 non-null  int64[pyarrow] \n",
      " 14  Vehicle Location                                   118926 non-null  string[pyarrow]\n",
      " 15  Electric Utility                                   118497 non-null  string[pyarrow]\n",
      " 16  2020 Census Tract                                  118957 non-null  int64[pyarrow] \n",
      "dtypes: int64[pyarrow](7), string[pyarrow](10)\n",
      "memory usage: 32.2 MB\n"
     ]
    }
   ],
   "source": [
    "df_v2.info()"
   ]
  },
  {
   "cell_type": "code",
   "execution_count": 12,
   "metadata": {},
   "outputs": [
    {
     "data": {
      "text/plain": "<ArrowExtensionArray>\n[92051, 67037, 98271, 98337, 98026, 99362, 98204, 98277, 98021, 98501,\n ...\n 98112, 98040, 98418, 98275, 98502, 98020, 98004, 98052, 98109, 98282]\nLength: 118959, dtype: int64[pyarrow]"
     },
     "execution_count": 12,
     "metadata": {},
     "output_type": "execute_result"
    }
   ],
   "source": [
    "df_v2[\"Postal Code\"].values"
   ]
  },
  {
   "cell_type": "code",
   "execution_count": 13,
   "metadata": {},
   "outputs": [
    {
     "data": {
      "text/plain": "pandas.core.arrays.arrow.array.ArrowExtensionArray"
     },
     "execution_count": 13,
     "metadata": {},
     "output_type": "execute_result"
    }
   ],
   "source": [
    "type(df_v2[\"Postal Code\"].values)"
   ]
  },
  {
   "cell_type": "code",
   "execution_count": 15,
   "metadata": {},
   "outputs": [
    {
     "name": "stdout",
     "output_type": "stream",
     "text": [
      "13.2 ms ± 262 µs per loop (mean ± std. dev. of 7 runs, 100 loops each)\n"
     ]
    }
   ],
   "source": [
    "%%timeit\n",
    "df_v2 = pd.read_csv(\n",
    "    \"data/Electric_Vehicle_Population_Data.csv\",\n",
    "    engine=\"pyarrow\",\n",
    "    use_nullable_dtypes=True)"
   ]
  },
  {
   "cell_type": "code",
   "execution_count": 16,
   "metadata": {},
   "outputs": [
    {
     "name": "stdout",
     "output_type": "stream",
     "text": [
      "<class 'pandas.core.frame.DataFrame'>\n",
      "RangeIndex: 118959 entries, 0 to 118958\n",
      "Data columns (total 17 columns):\n",
      " #   Column                                             Non-Null Count   Dtype          \n",
      "---  ------                                             --------------   -----          \n",
      " 0   VIN (1-10)                                         118959 non-null  string[pyarrow]\n",
      " 1   County                                             118957 non-null  string[pyarrow]\n",
      " 2   City                                               118957 non-null  string[pyarrow]\n",
      " 3   State                                              118959 non-null  string[pyarrow]\n",
      " 4   Postal Code                                        118957 non-null  int64[pyarrow] \n",
      " 5   Model Year                                         118959 non-null  int64[pyarrow] \n",
      " 6   Make                                               118959 non-null  string[pyarrow]\n",
      " 7   Model                                              118826 non-null  string[pyarrow]\n",
      " 8   Electric Vehicle Type                              118959 non-null  string[pyarrow]\n",
      " 9   Clean Alternative Fuel Vehicle (CAFV) Eligibility  118959 non-null  string[pyarrow]\n",
      " 10  Electric Range                                     118959 non-null  int64[pyarrow] \n",
      " 11  Base MSRP                                          118959 non-null  int64[pyarrow] \n",
      " 12  Legislative District                               118665 non-null  int64[pyarrow] \n",
      " 13  DOL Vehicle ID                                     118959 non-null  int64[pyarrow] \n",
      " 14  Vehicle Location                                   118926 non-null  string[pyarrow]\n",
      " 15  Electric Utility                                   118497 non-null  string[pyarrow]\n",
      " 16  2020 Census Tract                                  118957 non-null  int64[pyarrow] \n",
      "dtypes: int64[pyarrow](7), string[pyarrow](10)\n",
      "memory usage: 32.2 MB\n"
     ]
    }
   ],
   "source": [
    "df_v2.info()"
   ]
  },
  {
   "cell_type": "markdown",
   "metadata": {},
   "source": [
    "## Speed\n"
   ]
  },
  {
   "cell_type": "code",
   "execution_count": 17,
   "metadata": {},
   "outputs": [
    {
     "name": "stdout",
     "output_type": "stream",
     "text": [
      "104 µs ± 1.67 µs per loop (mean ± std. dev. of 7 runs, 10,000 loops each)\n"
     ]
    }
   ],
   "source": [
    "%timeit df[\"Electric Range\"].mean()"
   ]
  },
  {
   "cell_type": "code",
   "execution_count": 18,
   "metadata": {},
   "outputs": [
    {
     "name": "stdout",
     "output_type": "stream",
     "text": [
      "35.6 µs ± 198 ns per loop (mean ± std. dev. of 7 runs, 10,000 loops each)\n"
     ]
    }
   ],
   "source": [
    "%timeit df_v2[\"Electric Range\"].mean()"
   ]
  },
  {
   "cell_type": "markdown",
   "metadata": {},
   "source": [
    "### Load Times"
   ]
  },
  {
   "cell_type": "code",
   "execution_count": 19,
   "metadata": {},
   "outputs": [
    {
     "name": "stdout",
     "output_type": "stream",
     "text": [
      "210 ms ± 4.54 ms per loop (mean ± std. dev. of 7 runs, 1 loop each)\n"
     ]
    }
   ],
   "source": [
    "%%timeit\n",
    "df = pd.read_csv(\"data/Electric_Vehicle_Population_Data.csv\")"
   ]
  },
  {
   "cell_type": "markdown",
   "metadata": {},
   "source": [
    "## Arrow REQUIRES nullable option, but does not have to have the engine"
   ]
  },
  {
   "cell_type": "code",
   "execution_count": 20,
   "metadata": {},
   "outputs": [
    {
     "name": "stdout",
     "output_type": "stream",
     "text": [
      "13.5 ms ± 128 µs per loop (mean ± std. dev. of 7 runs, 100 loops each)\n"
     ]
    }
   ],
   "source": [
    "%%timeit\n",
    "df_v2 = pd.read_csv(\n",
    "    \"data/Electric_Vehicle_Population_Data.csv\",\n",
    "    engine=\"pyarrow\",\n",
    "    use_nullable_dtypes=True)"
   ]
  },
  {
   "cell_type": "code",
   "execution_count": 21,
   "metadata": {},
   "outputs": [
    {
     "data": {
      "text/plain": "VIN (1-10)                                           118959\nCounty                                               118957\nCity                                                 118957\nState                                                118959\nPostal Code                                          118957\nModel Year                                           118959\nMake                                                 118959\nModel                                                118826\nElectric Vehicle Type                                118959\nClean Alternative Fuel Vehicle (CAFV) Eligibility    118959\nElectric Range                                       118959\nBase MSRP                                            118959\nLegislative District                                 118665\nDOL Vehicle ID                                       118959\nVehicle Location                                     118926\nElectric Utility                                     118497\n2020 Census Tract                                    118957\ndtype: int64"
     },
     "execution_count": 21,
     "metadata": {},
     "output_type": "execute_result"
    }
   ],
   "source": [
    "df_v2.count()"
   ]
  },
  {
   "cell_type": "code",
   "execution_count": 22,
   "metadata": {},
   "outputs": [
    {
     "name": "stdout",
     "output_type": "stream",
     "text": [
      "<class 'pandas.core.frame.DataFrame'>\n",
      "RangeIndex: 118959 entries, 0 to 118958\n",
      "Data columns (total 17 columns):\n",
      " #   Column                                             Non-Null Count   Dtype          \n",
      "---  ------                                             --------------   -----          \n",
      " 0   VIN (1-10)                                         118959 non-null  string[pyarrow]\n",
      " 1   County                                             118957 non-null  string[pyarrow]\n",
      " 2   City                                               118957 non-null  string[pyarrow]\n",
      " 3   State                                              118959 non-null  string[pyarrow]\n",
      " 4   Postal Code                                        118957 non-null  int64[pyarrow] \n",
      " 5   Model Year                                         118959 non-null  int64[pyarrow] \n",
      " 6   Make                                               118959 non-null  string[pyarrow]\n",
      " 7   Model                                              118826 non-null  string[pyarrow]\n",
      " 8   Electric Vehicle Type                              118959 non-null  string[pyarrow]\n",
      " 9   Clean Alternative Fuel Vehicle (CAFV) Eligibility  118959 non-null  string[pyarrow]\n",
      " 10  Electric Range                                     118959 non-null  int64[pyarrow] \n",
      " 11  Base MSRP                                          118959 non-null  int64[pyarrow] \n",
      " 12  Legislative District                               118665 non-null  int64[pyarrow] \n",
      " 13  DOL Vehicle ID                                     118959 non-null  int64[pyarrow] \n",
      " 14  Vehicle Location                                   118926 non-null  string[pyarrow]\n",
      " 15  Electric Utility                                   118497 non-null  string[pyarrow]\n",
      " 16  2020 Census Tract                                  118957 non-null  int64[pyarrow] \n",
      "dtypes: int64[pyarrow](7), string[pyarrow](10)\n",
      "memory usage: 32.2 MB\n"
     ]
    }
   ],
   "source": [
    "df_v2.info()"
   ]
  },
  {
   "cell_type": "code",
   "execution_count": 23,
   "metadata": {},
   "outputs": [
    {
     "name": "stdout",
     "output_type": "stream",
     "text": [
      "22.5 ms ± 273 µs per loop (mean ± std. dev. of 7 runs, 10 loops each)\n"
     ]
    }
   ],
   "source": [
    "%%timeit\n",
    "df[\"State\"].str.startswith(\"K\")"
   ]
  },
  {
   "cell_type": "code",
   "execution_count": 24,
   "outputs": [
    {
     "name": "stdout",
     "output_type": "stream",
     "text": [
      "794 µs ± 21.1 µs per loop (mean ± std. dev. of 7 runs, 1,000 loops each)\n"
     ]
    }
   ],
   "source": [
    "%%timeit\n",
    "df_v2[\"State\"].str.startswith(\"K\")"
   ],
   "metadata": {
    "collapsed": false
   }
  },
  {
   "cell_type": "markdown",
   "source": [
    "Converting to Polars"
   ],
   "metadata": {
    "collapsed": false
   }
  },
  {
   "cell_type": "code",
   "execution_count": 30,
   "outputs": [],
   "source": [
    "df_polars = pl.from_pandas(df_v2)\n",
    "# df_polars = pl.read_csv(\"data/Electric_Vehicle_Population_Data.csv\")\n",
    "\n",
    "df_p = pl.DataFrame({\"foo\": [1, 2, 3], \"bar\": [None, \"bak\", \"zip\"]})"
   ],
   "metadata": {
    "collapsed": false
   }
  },
  {
   "cell_type": "code",
   "execution_count": 33,
   "outputs": [
    {
     "data": {
      "text/plain": "shape: (3, 2)\n┌─────┬──────┐\n│ foo ┆ bar  │\n│ --- ┆ ---  │\n│ i64 ┆ str  │\n╞═════╪══════╡\n│ 1   ┆ null │\n│ 2   ┆ bak  │\n│ 3   ┆ zip  │\n└─────┴──────┘",
      "text/html": "<div>\n<style>\n.pl-dataframe > thead > tr > th {\n  text-align: right;\n}\n</style>\n\n<table border=\"1\" class=\"dataframe pl-dataframe\">\n<small>shape: (3, 2)</small>\n<thead>\n<tr>\n<th>\nfoo\n</th>\n<th>\nbar\n</th>\n</tr>\n<tr>\n<td>\ni64\n</td>\n<td>\nstr\n</td>\n</tr>\n</thead>\n<tbody>\n<tr>\n<td>\n1\n</td>\n<td>\nnull\n</td>\n</tr>\n<tr>\n<td>\n2\n</td>\n<td>\n&quot;bak&quot;\n</td>\n</tr>\n<tr>\n<td>\n3\n</td>\n<td>\n&quot;zip&quot;\n</td>\n</tr>\n</tbody>\n</table>\n</div>"
     },
     "execution_count": 33,
     "metadata": {},
     "output_type": "execute_result"
    }
   ],
   "source": [
    "df_p.head()"
   ],
   "metadata": {
    "collapsed": false
   }
  },
  {
   "cell_type": "code",
   "execution_count": 46,
   "outputs": [],
   "source": [
    "agg_polars = (\n",
    "    df_polars.groupby(\"State\")\n",
    "    .agg(pl.col([\"Electric Range\"])\n",
    "    .sum().alias(\"Total\"))\n",
    ")"
   ],
   "metadata": {
    "collapsed": false
   }
  },
  {
   "cell_type": "code",
   "execution_count": 32,
   "outputs": [
    {
     "data": {
      "text/plain": "shape: (5, 17)\n┌──────────┬───────────┬─────────┬───────┬─────┬────────────┬────────────┬────────────┬────────────┐\n│ VIN      ┆ County    ┆ City    ┆ State ┆ ... ┆ DOL        ┆ Vehicle    ┆ Electric   ┆ 2020       │\n│ (1-10)   ┆ ---       ┆ ---     ┆ ---   ┆     ┆ Vehicle ID ┆ Location   ┆ Utility    ┆ Census     │\n│ ---      ┆ str       ┆ str     ┆ str   ┆     ┆ ---        ┆ ---        ┆ ---        ┆ Tract      │\n│ str      ┆           ┆         ┆       ┆     ┆ i64        ┆ str        ┆ str        ┆ ---        │\n│          ┆           ┆         ┆       ┆     ┆            ┆            ┆            ┆ i64        │\n╞══════════╪═══════════╪═════════╪═══════╪═════╪════════════╪════════════╪════════════╪════════════╡\n│ 5YJ3E1EA ┆ San Diego ┆ Oceansi ┆ CA    ┆ ... ┆ 153998050  ┆ null       ┆ null       ┆ 6073018509 │\n│ 8J       ┆           ┆ de      ┆       ┆     ┆            ┆            ┆            ┆            │\n│ 3FA6P0PU ┆ Sedgwick  ┆ Derby   ┆ KS    ┆ ... ┆ 138214331  ┆ POINT      ┆ null       ┆ 2017300980 │\n│ 7H       ┆           ┆         ┆       ┆     ┆            ┆ (-97.27013 ┆            ┆ 1          │\n│          ┆           ┆         ┆       ┆     ┆            ┆ 37.54531)  ┆            ┆            │\n│ 1N4AZ0CP ┆ Snohomish ┆ Marysvi ┆ WA    ┆ ... ┆ 3129059    ┆ POINT (-12 ┆ PUGET      ┆ 5306105280 │\n│ 8D       ┆           ┆ lle     ┆       ┆     ┆            ┆ 2.19388    ┆ SOUND      ┆ 5          │\n│          ┆           ┆         ┆       ┆     ┆            ┆ 48.15353)  ┆ ENERGY INC ┆            │\n│ WBY8P8C5 ┆ Kitsap    ┆ Bremert ┆ WA    ┆ ... ┆ 166525635  ┆ POINT (-12 ┆ PUGET      ┆ 5303508050 │\n│ 8K       ┆           ┆ on      ┆       ┆     ┆            ┆ 2.62749    ┆ SOUND      ┆ 0          │\n│          ┆           ┆         ┆       ┆     ┆            ┆ 47.565)    ┆ ENERGY INC ┆            │\n│ 5YJ3E1EA ┆ Snohomish ┆ Edmonds ┆ WA    ┆ ... ┆ 475248315  ┆ POINT (-12 ┆ PUGET      ┆ 5306105080 │\n│ 7K       ┆           ┆         ┆       ┆     ┆            ┆ 2.31768    ┆ SOUND      ┆ 0          │\n│          ┆           ┆         ┆       ┆     ┆            ┆ 47.87166)  ┆ ENERGY INC ┆            │\n└──────────┴───────────┴─────────┴───────┴─────┴────────────┴────────────┴────────────┴────────────┘",
      "text/html": "<div>\n<style>\n.pl-dataframe > thead > tr > th {\n  text-align: right;\n}\n</style>\n\n<table border=\"1\" class=\"dataframe pl-dataframe\">\n<small>shape: (5, 17)</small>\n<thead>\n<tr>\n<th>\nVIN (1-10)\n</th>\n<th>\nCounty\n</th>\n<th>\nCity\n</th>\n<th>\nState\n</th>\n<th>\nPostal Code\n</th>\n<th>\nModel Year\n</th>\n<th>\nMake\n</th>\n<th>\nModel\n</th>\n<th>\nElectric Vehicle Type\n</th>\n<th>\nClean Alternative Fuel Vehicle (CAFV) Eligibility\n</th>\n<th>\nElectric Range\n</th>\n<th>\nBase MSRP\n</th>\n<th>\nLegislative District\n</th>\n<th>\nDOL Vehicle ID\n</th>\n<th>\nVehicle Location\n</th>\n<th>\nElectric Utility\n</th>\n<th>\n2020 Census Tract\n</th>\n</tr>\n<tr>\n<td>\nstr\n</td>\n<td>\nstr\n</td>\n<td>\nstr\n</td>\n<td>\nstr\n</td>\n<td>\ni64\n</td>\n<td>\ni64\n</td>\n<td>\nstr\n</td>\n<td>\nstr\n</td>\n<td>\nstr\n</td>\n<td>\nstr\n</td>\n<td>\ni64\n</td>\n<td>\ni64\n</td>\n<td>\ni64\n</td>\n<td>\ni64\n</td>\n<td>\nstr\n</td>\n<td>\nstr\n</td>\n<td>\ni64\n</td>\n</tr>\n</thead>\n<tbody>\n<tr>\n<td>\n&quot;5YJ3E1EA8J&quot;\n</td>\n<td>\n&quot;San Diego&quot;\n</td>\n<td>\n&quot;Oceanside&quot;\n</td>\n<td>\n&quot;CA&quot;\n</td>\n<td>\n92051\n</td>\n<td>\n2018\n</td>\n<td>\n&quot;TESLA&quot;\n</td>\n<td>\n&quot;MODEL 3&quot;\n</td>\n<td>\n&quot;Battery Electr...\n</td>\n<td>\n&quot;Clean Alternat...\n</td>\n<td>\n215\n</td>\n<td>\n0\n</td>\n<td>\nnull\n</td>\n<td>\n153998050\n</td>\n<td>\nnull\n</td>\n<td>\nnull\n</td>\n<td>\n6073018509\n</td>\n</tr>\n<tr>\n<td>\n&quot;3FA6P0PU7H&quot;\n</td>\n<td>\n&quot;Sedgwick&quot;\n</td>\n<td>\n&quot;Derby&quot;\n</td>\n<td>\n&quot;KS&quot;\n</td>\n<td>\n67037\n</td>\n<td>\n2017\n</td>\n<td>\n&quot;FORD&quot;\n</td>\n<td>\n&quot;FUSION&quot;\n</td>\n<td>\n&quot;Plug-in Hybrid...\n</td>\n<td>\n&quot;Not eligible d...\n</td>\n<td>\n21\n</td>\n<td>\n0\n</td>\n<td>\nnull\n</td>\n<td>\n138214331\n</td>\n<td>\n&quot;POINT (-97.270...\n</td>\n<td>\nnull\n</td>\n<td>\n20173009801\n</td>\n</tr>\n<tr>\n<td>\n&quot;1N4AZ0CP8D&quot;\n</td>\n<td>\n&quot;Snohomish&quot;\n</td>\n<td>\n&quot;Marysville&quot;\n</td>\n<td>\n&quot;WA&quot;\n</td>\n<td>\n98271\n</td>\n<td>\n2013\n</td>\n<td>\n&quot;NISSAN&quot;\n</td>\n<td>\n&quot;LEAF&quot;\n</td>\n<td>\n&quot;Battery Electr...\n</td>\n<td>\n&quot;Clean Alternat...\n</td>\n<td>\n75\n</td>\n<td>\n0\n</td>\n<td>\n38\n</td>\n<td>\n3129059\n</td>\n<td>\n&quot;POINT (-122.19...\n</td>\n<td>\n&quot;PUGET SOUND EN...\n</td>\n<td>\n53061052805\n</td>\n</tr>\n<tr>\n<td>\n&quot;WBY8P8C58K&quot;\n</td>\n<td>\n&quot;Kitsap&quot;\n</td>\n<td>\n&quot;Bremerton&quot;\n</td>\n<td>\n&quot;WA&quot;\n</td>\n<td>\n98337\n</td>\n<td>\n2019\n</td>\n<td>\n&quot;BMW&quot;\n</td>\n<td>\n&quot;I3&quot;\n</td>\n<td>\n&quot;Plug-in Hybrid...\n</td>\n<td>\n&quot;Clean Alternat...\n</td>\n<td>\n126\n</td>\n<td>\n0\n</td>\n<td>\n26\n</td>\n<td>\n166525635\n</td>\n<td>\n&quot;POINT (-122.62...\n</td>\n<td>\n&quot;PUGET SOUND EN...\n</td>\n<td>\n53035080500\n</td>\n</tr>\n<tr>\n<td>\n&quot;5YJ3E1EA7K&quot;\n</td>\n<td>\n&quot;Snohomish&quot;\n</td>\n<td>\n&quot;Edmonds&quot;\n</td>\n<td>\n&quot;WA&quot;\n</td>\n<td>\n98026\n</td>\n<td>\n2019\n</td>\n<td>\n&quot;TESLA&quot;\n</td>\n<td>\n&quot;MODEL 3&quot;\n</td>\n<td>\n&quot;Battery Electr...\n</td>\n<td>\n&quot;Clean Alternat...\n</td>\n<td>\n220\n</td>\n<td>\n0\n</td>\n<td>\n32\n</td>\n<td>\n475248315\n</td>\n<td>\n&quot;POINT (-122.31...\n</td>\n<td>\n&quot;PUGET SOUND EN...\n</td>\n<td>\n53061050800\n</td>\n</tr>\n</tbody>\n</table>\n</div>"
     },
     "execution_count": 32,
     "metadata": {},
     "output_type": "execute_result"
    }
   ],
   "source": [
    "df_polars.head()"
   ],
   "metadata": {
    "collapsed": false
   }
  },
  {
   "cell_type": "code",
   "execution_count": 38,
   "outputs": [
    {
     "data": {
      "text/plain": "VIN (1-10)                                           118959\nCounty                                               118957\nCity                                                 118957\nState                                                118959\nPostal Code                                          118957\nModel Year                                           118959\nMake                                                 118959\nModel                                                118826\nElectric Vehicle Type                                118959\nClean Alternative Fuel Vehicle (CAFV) Eligibility    118959\nElectric Range                                       118959\nBase MSRP                                            118959\nLegislative District                                 118665\nDOL Vehicle ID                                       118959\nVehicle Location                                     118926\nElectric Utility                                     118497\n2020 Census Tract                                    118957\ndtype: int64"
     },
     "execution_count": 38,
     "metadata": {},
     "output_type": "execute_result"
    }
   ],
   "source": [
    "df.count()"
   ],
   "metadata": {
    "collapsed": false
   }
  },
  {
   "cell_type": "code",
   "execution_count": 47,
   "outputs": [
    {
     "data": {
      "text/plain": "shape: (5, 2)\n┌───────┬───────┐\n│ State ┆ Total │\n│ ---   ┆ ---   │\n│ str   ┆ i64   │\n╞═══════╪═══════╡\n│ MA    ┆ 53    │\n│ NY    ┆ 326   │\n│ BC    ┆ 220   │\n│ PA    ┆ 351   │\n│ DE    ┆ 0     │\n└───────┴───────┘",
      "text/html": "<div>\n<style>\n.pl-dataframe > thead > tr > th {\n  text-align: right;\n}\n</style>\n\n<table border=\"1\" class=\"dataframe pl-dataframe\">\n<small>shape: (5, 2)</small>\n<thead>\n<tr>\n<th>\nState\n</th>\n<th>\nTotal\n</th>\n</tr>\n<tr>\n<td>\nstr\n</td>\n<td>\ni64\n</td>\n</tr>\n</thead>\n<tbody>\n<tr>\n<td>\n&quot;MA&quot;\n</td>\n<td>\n53\n</td>\n</tr>\n<tr>\n<td>\n&quot;NY&quot;\n</td>\n<td>\n326\n</td>\n</tr>\n<tr>\n<td>\n&quot;BC&quot;\n</td>\n<td>\n220\n</td>\n</tr>\n<tr>\n<td>\n&quot;PA&quot;\n</td>\n<td>\n351\n</td>\n</tr>\n<tr>\n<td>\n&quot;DE&quot;\n</td>\n<td>\n0\n</td>\n</tr>\n</tbody>\n</table>\n</div>"
     },
     "execution_count": 47,
     "metadata": {},
     "output_type": "execute_result"
    }
   ],
   "source": [
    "agg_polars.head()"
   ],
   "metadata": {
    "collapsed": false
   }
  },
  {
   "cell_type": "code",
   "execution_count": 48,
   "outputs": [],
   "source": [
    "agg_df = agg_polars.to_pandas()"
   ],
   "metadata": {
    "collapsed": false
   }
  },
  {
   "cell_type": "code",
   "execution_count": 51,
   "outputs": [
    {
     "data": {
      "text/plain": "<Axes: title={'center': 'Top Electric Range'}, ylabel='State'>"
     },
     "execution_count": 51,
     "metadata": {},
     "output_type": "execute_result"
    },
    {
     "data": {
      "text/plain": "<Figure size 640x480 with 1 Axes>",
      "image/png": "[encoded data removed]"
     },
     "metadata": {},
     "output_type": "display_data"
    }
   ],
   "source": [
    "agg_df.set_index(\"State\") \\\n",
    "    .sort_values(\"Total\", ascending=False) \\\n",
    "    .head(15) \\\n",
    "    .sort_values(\"Total\") \\\n",
    "    .plot(kind=\"barh\", title=\"Top Electric Range\")"
   ],
   "metadata": {
    "collapsed": false
   }
  },
  {
   "cell_type": "code",
   "execution_count": null,
   "outputs": [],
   "source": [],
   "metadata": {
    "collapsed": false
   }
  }
 ],
 "metadata": {
  "kernelspec": {
   "display_name": "Python 3 (ipykernel)",
   "language": "python",
   "name": "python3"
  },
  "language_info": {
   "codemirror_mode": {
    "name": "ipython",
    "version": 3
   },
   "file_extension": ".py",
   "mimetype": "text/x-python",
   "name": "python",
   "nbconvert_exporter": "python",
   "pygments_lexer": "ipython3",
   "version": "3.11.0"
  }
 },
 "nbformat": 4,
 "nbformat_minor": 1
}
