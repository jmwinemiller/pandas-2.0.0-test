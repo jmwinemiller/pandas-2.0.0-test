{
 "cells": [
  {
   "cell_type": "markdown",
   "metadata": {},
   "source": [
    "# Testing Pandas 2.0.1\n",
    "#### NOTE: Pandas has been updated from 2.0.0rc1 to 2.0.1\n",
    "### Examining the difference in performance in Pandas when using PyArrow backend vs Numpy backend and PyArrow backend vs Polars"
   ]
  },
  {
   "cell_type": "markdown",
   "metadata": {},
   "source": [
    "## Loading required packages and testing versions"
   ]
  },
  {
   "cell_type": "code",
   "execution_count": 1,
   "metadata": {
    "pycharm": {
     "is_executing": true
    }
   },
   "outputs": [
    {
     "name": "stdout",
     "output_type": "stream",
     "text": [
      "numpy 1.24.3\n",
      "pandas 2.0.1\n",
      "polars 0.17.13\n"
     ]
    }
   ],
   "source": [
    "import numpy as np\n",
    "import pandas\n",
    "import pandas as pd\n",
    "import polars as pl\n",
    "import pyarrow\n",
    "\n",
    "print(f\"numpy {np.__version__}\")\n",
    "print(f\"pandas {pd.__version__}\")\n",
    "print(f\"polars {pl.__version__}\")"
   ]
  },
  {
   "cell_type": "markdown",
   "metadata": {},
   "source": [
    "### Set global options for Pandas"
   ]
  },
  {
   "cell_type": "code",
   "execution_count": 2,
   "metadata": {},
   "outputs": [],
   "source": [
    "pd.options.display.max_rows = 5"
   ]
  },
  {
   "cell_type": "markdown",
   "metadata": {},
   "source": [
    "### Set global alias for timeit features\n",
    "This feature will be use to see packages options compare "
   ]
  },
  {
   "cell_type": "code",
   "execution_count": 3,
   "metadata": {},
   "outputs": [
    {
     "name": "stdout",
     "output_type": "stream",
     "text": [
      "Created `%t` as an alias for `%timeit`.\n",
      "Created `%%t` as an alias for `%%timeit`.\n"
     ]
    }
   ],
   "source": [
    "%alias_magic t timeit"
   ]
  },
  {
   "cell_type": "markdown",
   "metadata": {},
   "source": [
    "## Reading data with Pandas - Numpy backend"
   ]
  },
  {
   "cell_type": "markdown",
   "metadata": {},
   "source": [
    "### Loading University Students Complaints & Reports Dataset from Kaggle\n",
    "https://www.kaggle.com/datasets/omarsobhy14/university-students-complaints-and-reports\n",
    "#### NOTE: The dataset has been edited for test by remove select integer datapoints \n",
    "\n"
   ]
  },
  {
   "cell_type": "code",
   "execution_count": 42,
   "metadata": {},
   "outputs": [],
   "source": [
    "df_np = pd.read_csv(\"data/student_reports.csv\")"
   ]
  },
  {
   "cell_type": "markdown",
   "metadata": {},
   "source": [
    "#### Operation time for loading data with Numpy backend"
   ]
  },
  {
   "cell_type": "code",
   "execution_count": 44,
   "metadata": {},
   "outputs": [
    {
     "name": "stdout",
     "output_type": "stream",
     "text": [
      "6.05 ms ± 1.25 ms per loop (mean ± std. dev. of 7 runs, 1 loop each)\n"
     ]
    }
   ],
   "source": [
    "%%t -n1\n",
    "pd.read_csv(\"data/student_reports.csv\")"
   ]
  },
  {
   "cell_type": "markdown",
   "metadata": {},
   "source": [
    "### Sample of view of the data"
   ]
  },
  {
   "cell_type": "code",
   "execution_count": 35,
   "metadata": {},
   "outputs": [
    {
     "data": {
      "text/html": [
       "<div>\n",
       "<style scoped>\n",
       "    .dataframe tbody tr th:only-of-type {\n",
       "        vertical-align: middle;\n",
       "    }\n",
       "\n",
       "    .dataframe tbody tr th {\n",
       "        vertical-align: top;\n",
       "    }\n",
       "\n",
       "    .dataframe thead th {\n",
       "        text-align: right;\n",
       "    }\n",
       "</style>\n",
       "<table border=\"1\" class=\"dataframe\">\n",
       "  <thead>\n",
       "    <tr style=\"text-align: right;\">\n",
       "      <th></th>\n",
       "      <th>Genre</th>\n",
       "      <th>Reports</th>\n",
       "      <th>Age</th>\n",
       "      <th>Gpa</th>\n",
       "      <th>Year</th>\n",
       "      <th>Count</th>\n",
       "      <th>Gender</th>\n",
       "    </tr>\n",
       "  </thead>\n",
       "  <tbody>\n",
       "    <tr>\n",
       "      <th>0</th>\n",
       "      <td>Academic Support and Resources</td>\n",
       "      <td>The limited access to research databases and m...</td>\n",
       "      <td>27.0</td>\n",
       "      <td>2.18</td>\n",
       "      <td>2.0</td>\n",
       "      <td>1</td>\n",
       "      <td>M</td>\n",
       "    </tr>\n",
       "    <tr>\n",
       "      <th>1</th>\n",
       "      <td>Academic Support and Resources</td>\n",
       "      <td>I'm having trouble finding the course material...</td>\n",
       "      <td>23.0</td>\n",
       "      <td>3.11</td>\n",
       "      <td>2.0</td>\n",
       "      <td>1</td>\n",
       "      <td>F</td>\n",
       "    </tr>\n",
       "    <tr>\n",
       "      <th>...</th>\n",
       "      <td>...</td>\n",
       "      <td>...</td>\n",
       "      <td>...</td>\n",
       "      <td>...</td>\n",
       "      <td>...</td>\n",
       "      <td>...</td>\n",
       "      <td>...</td>\n",
       "    </tr>\n",
       "    <tr>\n",
       "      <th>1003</th>\n",
       "      <td>Food and Cantines</td>\n",
       "      <td>29. I have been unable to find food that is he...</td>\n",
       "      <td>20.0</td>\n",
       "      <td>2.06</td>\n",
       "      <td>2.0</td>\n",
       "      <td>1</td>\n",
       "      <td>M</td>\n",
       "    </tr>\n",
       "    <tr>\n",
       "      <th>1004</th>\n",
       "      <td>Food and Cantines</td>\n",
       "      <td>30. I have been unable to find food that is co...</td>\n",
       "      <td>21.0</td>\n",
       "      <td>2.58</td>\n",
       "      <td>NaN</td>\n",
       "      <td>1</td>\n",
       "      <td>M</td>\n",
       "    </tr>\n",
       "  </tbody>\n",
       "</table>\n",
       "<p>1005 rows × 7 columns</p>\n",
       "</div>"
      ],
      "text/plain": [
       "                               Genre  \\\n",
       "0     Academic Support and Resources   \n",
       "1     Academic Support and Resources   \n",
       "...                              ...   \n",
       "1003               Food and Cantines   \n",
       "1004               Food and Cantines   \n",
       "\n",
       "                                                Reports   Age   Gpa  Year  \\\n",
       "0     The limited access to research databases and m...  27.0  2.18   2.0   \n",
       "1     I'm having trouble finding the course material...  23.0  3.11   2.0   \n",
       "...                                                 ...   ...   ...   ...   \n",
       "1003  29. I have been unable to find food that is he...  20.0  2.06   2.0   \n",
       "1004  30. I have been unable to find food that is co...  21.0  2.58   NaN   \n",
       "\n",
       "      Count Gender  \n",
       "0         1      M  \n",
       "1         1      F  \n",
       "...     ...    ...  \n",
       "1003      1      M  \n",
       "1004      1      M  \n",
       "\n",
       "[1005 rows x 7 columns]"
      ]
     },
     "execution_count": 35,
     "metadata": {},
     "output_type": "execute_result"
    }
   ],
   "source": [
    "df_np"
   ]
  },
  {
   "cell_type": "markdown",
   "metadata": {},
   "source": [
    "### Count and object information of the dataset"
   ]
  },
  {
   "cell_type": "code",
   "execution_count": 45,
   "metadata": {},
   "outputs": [
    {
     "name": "stdout",
     "output_type": "stream",
     "text": [
      "<class 'pandas.core.frame.DataFrame'>\n",
      "RangeIndex: 1005 entries, 0 to 1004\n",
      "Data columns (total 7 columns):\n",
      " #   Column   Non-Null Count  Dtype  \n",
      "---  ------   --------------  -----  \n",
      " 0   Genre    1005 non-null   object \n",
      " 1   Reports  1005 non-null   object \n",
      " 2   Age      1003 non-null   float64\n",
      " 3   Gpa      1005 non-null   float64\n",
      " 4   Year     1002 non-null   float64\n",
      " 5   Count    1005 non-null   int64  \n",
      " 6   Gender   1005 non-null   object \n",
      "dtypes: float64(3), int64(1), object(3)\n",
      "memory usage: 55.1+ KB\n"
     ]
    }
   ],
   "source": [
    "df.info()"
   ]
  },
  {
   "cell_type": "markdown",
   "metadata": {},
   "source": [
    "### There are missing values for `Age` and `Year` in the dataset\n",
    "#### NOTE: The datatype for `Age` and `Year` are a `float64` instead of an `int64`. This is how the `Numpy` backend will classify a column of numeric or integer data if there are any missing values. This adds a performance drawback."
   ]
  },
  {
   "cell_type": "markdown",
   "metadata": {},
   "source": [
    "## Test backend object"
   ]
  },
  {
   "cell_type": "code",
   "execution_count": 46,
   "metadata": {},
   "outputs": [
    {
     "data": {
      "text/plain": [
       "array([27., 23., 20., ..., 22., 20., 21.])"
      ]
     },
     "execution_count": 46,
     "metadata": {},
     "output_type": "execute_result"
    }
   ],
   "source": [
    "df[\"Age\"].values"
   ]
  },
  {
   "cell_type": "markdown",
   "metadata": {},
   "source": [
    "## Using the PyArrow Backend"
   ]
  },
  {
   "cell_type": "code",
   "execution_count": 56,
   "metadata": {},
   "outputs": [
    {
     "name": "stdout",
     "output_type": "stream",
     "text": [
      "3.14 ms ± 754 µs per loop (mean ± std. dev. of 7 runs, 1 loop each)\n"
     ]
    }
   ],
   "source": [
    "%%t -n1\n",
    "df_pa = pd.read_csv(\"data/student_reports.csv\", engine=\"pyarrow\")"
   ]
  },
  {
   "cell_type": "markdown",
   "metadata": {},
   "source": []
  },
  {
   "cell_type": "code",
   "execution_count": 57,
   "metadata": {},
   "outputs": [
    {
     "name": "stdout",
     "output_type": "stream",
     "text": [
      "<class 'pandas.core.frame.DataFrame'>\n",
      "RangeIndex: 1005 entries, 0 to 1004\n",
      "Data columns (total 7 columns):\n",
      " #   Column   Non-Null Count  Dtype  \n",
      "---  ------   --------------  -----  \n",
      " 0   Genre    1005 non-null   object \n",
      " 1   Reports  1005 non-null   object \n",
      " 2   Age      1003 non-null   float64\n",
      " 3   Gpa      1005 non-null   float64\n",
      " 4   Year     1002 non-null   float64\n",
      " 5   Count    1005 non-null   int64  \n",
      " 6   Gender   1005 non-null   object \n",
      "dtypes: float64(3), int64(1), object(3)\n",
      "memory usage: 55.1+ KB\n"
     ]
    }
   ],
   "source": [
    "df_pa.info()"
   ]
  },
  {
   "cell_type": "code",
   "execution_count": 53,
   "metadata": {},
   "outputs": [
    {
     "data": {
      "text/plain": [
       "array([27., 23., 20., ..., 22., 20., 21.])"
      ]
     },
     "execution_count": 53,
     "metadata": {},
     "output_type": "execute_result"
    }
   ],
   "source": [
    "df_pa[\"Age\"].values"
   ]
  },
  {
   "cell_type": "code",
   "execution_count": 54,
   "metadata": {},
   "outputs": [
    {
     "data": {
      "text/plain": [
       "numpy.ndarray"
      ]
     },
     "execution_count": 54,
     "metadata": {},
     "output_type": "execute_result"
    }
   ],
   "source": [
    "type(df_pa[\"Age\"].values)"
   ]
  },
  {
   "cell_type": "code",
   "execution_count": 60,
   "metadata": {},
   "outputs": [],
   "source": [
    "\n",
    "df_v2 = pd.read_csv(\n",
    "    \"data/student_reports.csv\",\n",
    "    engine=\"pyarrow\", index_col=0)"
   ]
  },
  {
   "cell_type": "code",
   "execution_count": 61,
   "metadata": {},
   "outputs": [
    {
     "name": "stdout",
     "output_type": "stream",
     "text": [
      "<class 'pandas.core.frame.DataFrame'>\n",
      "Index: 1005 entries, Academic Support and Resources to Food and Cantines\n",
      "Data columns (total 6 columns):\n",
      " #   Column   Non-Null Count  Dtype  \n",
      "---  ------   --------------  -----  \n",
      " 0   Reports  1005 non-null   object \n",
      " 1   Age      1003 non-null   float64\n",
      " 2   Gpa      1005 non-null   float64\n",
      " 3   Year     1002 non-null   float64\n",
      " 4   Count    1005 non-null   int64  \n",
      " 5   Gender   1005 non-null   object \n",
      "dtypes: float64(3), int64(1), object(2)\n",
      "memory usage: 55.0+ KB\n"
     ]
    }
   ],
   "source": [
    "df_v2.info()"
   ]
  },
  {
   "cell_type": "markdown",
   "metadata": {},
   "source": [
    "## Speed\n"
   ]
  },
  {
   "cell_type": "code",
   "execution_count": 47,
   "metadata": {},
   "outputs": [
    {
     "name": "stdout",
     "output_type": "stream",
     "text": [
      "103 µs ± 368 ns per loop (mean ± std. dev. of 7 runs, 10,000 loops each)\n"
     ]
    }
   ],
   "source": [
    "%timeit df[\"Electric Range\"].mean()"
   ]
  },
  {
   "cell_type": "code",
   "execution_count": 48,
   "metadata": {},
   "outputs": [
    {
     "name": "stdout",
     "output_type": "stream",
     "text": [
      "35.4 µs ± 169 ns per loop (mean ± std. dev. of 7 runs, 10,000 loops each)\n"
     ]
    }
   ],
   "source": [
    "%timeit df_v2[\"Electric Range\"].mean()"
   ]
  },
  {
   "cell_type": "markdown",
   "metadata": {},
   "source": [
    "### Load Times"
   ]
  },
  {
   "cell_type": "code",
   "execution_count": 49,
   "metadata": {},
   "outputs": [
    {
     "name": "stdout",
     "output_type": "stream",
     "text": [
      "214 ms ± 3.88 ms per loop (mean ± std. dev. of 7 runs, 1 loop each)\n"
     ]
    }
   ],
   "source": [
    "%%timeit\n",
    "df = pd.read_csv(\"data/Electric_Vehicle_Population_Data.csv\")"
   ]
  },
  {
   "cell_type": "markdown",
   "metadata": {},
   "source": [
    "## Arrow REQUIRES nullable option, but does not have to have the engine"
   ]
  },
  {
   "cell_type": "code",
   "execution_count": 50,
   "metadata": {},
   "outputs": [
    {
     "name": "stdout",
     "output_type": "stream",
     "text": [
      "14.6 ms ± 482 µs per loop (mean ± std. dev. of 7 runs, 100 loops each)\n",
      "13.8 ms ± 147 µs per loop (mean ± std. dev. of 7 runs, 100 loops each)\n"
     ]
    }
   ],
   "source": [
    "%%timeit\n",
    "df_v2 = pd.read_csv(\n",
    "    \"data/Electric_Vehicle_Population_Data.csv\",\n",
    "    engine=\"pyarrow\",\n",
    "    use_nullable_dtypes=True)"
   ]
  },
  {
   "cell_type": "code",
   "execution_count": 51,
   "metadata": {},
   "outputs": [
    {
     "data": {
      "text/plain": [
       "VIN (1-10)                                           118959\n",
       "County                                               118957\n",
       "City                                                 118957\n",
       "State                                                118959\n",
       "Postal Code                                          118957\n",
       "Model Year                                           118959\n",
       "Make                                                 118959\n",
       "Model                                                118826\n",
       "Electric Vehicle Type                                118959\n",
       "Clean Alternative Fuel Vehicle (CAFV) Eligibility    118959\n",
       "Electric Range                                       118959\n",
       "Base MSRP                                            118959\n",
       "Legislative District                                 118665\n",
       "DOL Vehicle ID                                       118959\n",
       "Vehicle Location                                     118926\n",
       "Electric Utility                                     118497\n",
       "2020 Census Tract                                    118957\n",
       "dtype: int64"
      ]
     },
     "execution_count": 20,
     "metadata": {},
     "output_type": "execute_result"
    },
    {
     "data": {
      "text/plain": [
       "VIN (1-10)                                           118959\n",
       "County                                               118957\n",
       "City                                                 118957\n",
       "State                                                118959\n",
       "Postal Code                                          118957\n",
       "Model Year                                           118959\n",
       "Make                                                 118959\n",
       "Model                                                118826\n",
       "Electric Vehicle Type                                118959\n",
       "Clean Alternative Fuel Vehicle (CAFV) Eligibility    118959\n",
       "Electric Range                                       118959\n",
       "Base MSRP                                            118959\n",
       "Legislative District                                 118665\n",
       "DOL Vehicle ID                                       118959\n",
       "Vehicle Location                                     118926\n",
       "Electric Utility                                     118497\n",
       "2020 Census Tract                                    118957\n",
       "dtype: int64"
      ]
     },
     "execution_count": 51,
     "metadata": {},
     "output_type": "execute_result"
    }
   ],
   "source": [
    "df_v2.count()"
   ]
  },
  {
   "cell_type": "code",
   "execution_count": 52,
   "metadata": {},
   "outputs": [
    {
     "name": "stdout",
     "output_type": "stream",
     "text": [
      "<class 'pandas.core.frame.DataFrame'>\n",
      "RangeIndex: 118959 entries, 0 to 118958\n",
      "Data columns (total 17 columns):\n",
      " #   Column                                             Non-Null Count   Dtype          \n",
      "---  ------                                             --------------   -----          \n",
      " 0   VIN (1-10)                                         118959 non-null  string[pyarrow]\n",
      " 1   County                                             118957 non-null  string[pyarrow]\n",
      " 2   City                                               118957 non-null  string[pyarrow]\n",
      " 3   State                                              118959 non-null  string[pyarrow]\n",
      " 4   Postal Code                                        118957 non-null  int64[pyarrow] \n",
      " 5   Model Year                                         118959 non-null  int64[pyarrow] \n",
      " 6   Make                                               118959 non-null  string[pyarrow]\n",
      " 7   Model                                              118826 non-null  string[pyarrow]\n",
      " 8   Electric Vehicle Type                              118959 non-null  string[pyarrow]\n",
      " 9   Clean Alternative Fuel Vehicle (CAFV) Eligibility  118959 non-null  string[pyarrow]\n",
      " 10  Electric Range                                     118959 non-null  int64[pyarrow] \n",
      " 11  Base MSRP                                          118959 non-null  int64[pyarrow] \n",
      " 12  Legislative District                               118665 non-null  int64[pyarrow] \n",
      " 13  DOL Vehicle ID                                     118959 non-null  int64[pyarrow] \n",
      " 14  Vehicle Location                                   118926 non-null  string[pyarrow]\n",
      " 15  Electric Utility                                   118497 non-null  string[pyarrow]\n",
      " 16  2020 Census Tract                                  118957 non-null  int64[pyarrow] \n",
      "dtypes: int64[pyarrow](7), string[pyarrow](10)\n",
      "memory usage: 32.2 MB\n",
      "<class 'pandas.core.frame.DataFrame'>\n",
      "RangeIndex: 118959 entries, 0 to 118958\n",
      "Data columns (total 17 columns):\n",
      " #   Column                                             Non-Null Count   Dtype          \n",
      "---  ------                                             --------------   -----          \n",
      " 0   VIN (1-10)                                         118959 non-null  string[pyarrow]\n",
      " 1   County                                             118957 non-null  string[pyarrow]\n",
      " 2   City                                               118957 non-null  string[pyarrow]\n",
      " 3   State                                              118959 non-null  string[pyarrow]\n",
      " 4   Postal Code                                        118957 non-null  int64[pyarrow] \n",
      " 5   Model Year                                         118959 non-null  int64[pyarrow] \n",
      " 6   Make                                               118959 non-null  string[pyarrow]\n",
      " 7   Model                                              118826 non-null  string[pyarrow]\n",
      " 8   Electric Vehicle Type                              118959 non-null  string[pyarrow]\n",
      " 9   Clean Alternative Fuel Vehicle (CAFV) Eligibility  118959 non-null  string[pyarrow]\n",
      " 10  Electric Range                                     118959 non-null  int64[pyarrow] \n",
      " 11  Base MSRP                                          118959 non-null  int64[pyarrow] \n",
      " 12  Legislative District                               118665 non-null  int64[pyarrow] \n",
      " 13  DOL Vehicle ID                                     118959 non-null  int64[pyarrow] \n",
      " 14  Vehicle Location                                   118926 non-null  string[pyarrow]\n",
      " 15  Electric Utility                                   118497 non-null  string[pyarrow]\n",
      " 16  2020 Census Tract                                  118957 non-null  int64[pyarrow] \n",
      "dtypes: int64[pyarrow](7), string[pyarrow](10)\n",
      "memory usage: 32.2 MB\n"
     ]
    }
   ],
   "source": [
    "df_v2.info()"
   ]
  },
  {
   "cell_type": "code",
   "execution_count": 53,
   "metadata": {},
   "outputs": [
    {
     "name": "stdout",
     "output_type": "stream",
     "text": [
      "22.9 ms ± 324 µs per loop (mean ± std. dev. of 7 runs, 10 loops each)\n",
      "22.4 ms ± 203 µs per loop (mean ± std. dev. of 7 runs, 10 loops each)\n"
     ]
    }
   ],
   "source": [
    "%%timeit\n",
    "df[\"State\"].str.startswith(\"K\")"
   ]
  },
  {
   "cell_type": "code",
   "execution_count": 54,
   "metadata": {},
   "outputs": [
    {
     "name": "stdout",
     "output_type": "stream",
     "text": [
      "782 µs ± 3.86 µs per loop (mean ± std. dev. of 7 runs, 1,000 loops each)\n",
      "783 µs ± 4.75 µs per loop (mean ± std. dev. of 7 runs, 1,000 loops each)\n"
     ]
    }
   ],
   "source": [
    "%%timeit\n",
    "df_v2[\"State\"].str.startswith(\"K\")"
   ]
  },
  {
   "cell_type": "markdown",
   "metadata": {},
   "source": [
    "Converting to Polars"
   ]
  },
  {
   "cell_type": "code",
   "execution_count": 55,
   "metadata": {},
   "outputs": [],
   "source": [
    "df_polars = pl.from_pandas(df_v2)\n",
    "# df_polars = pl.read_csv(\"data/Electric_Vehicle_Population_Data.csv\")\n",
    "\n",
    "df_p = pl.DataFrame({\"foo\": [1, 2, 3], \"bar\": [None, \"bak\", \"zip\"]})"
   ]
  },
  {
   "cell_type": "code",
   "execution_count": 56,
   "metadata": {},
   "outputs": [
    {
     "data": {
      "text/html": [
       "<div>\n",
       "<style>\n",
       ".pl-dataframe > thead > tr > th {\n",
       "  text-align: right;\n",
       "}\n",
       "</style>\n",
       "\n",
       "<table border=\"1\" class=\"dataframe pl-dataframe\">\n",
       "<small>shape: (3, 2)</small>\n",
       "<thead>\n",
       "<tr>\n",
       "<th>\n",
       "foo\n",
       "</th>\n",
       "<th>\n",
       "bar\n",
       "</th>\n",
       "</tr>\n",
       "<tr>\n",
       "<td>\n",
       "i64\n",
       "</td>\n",
       "<td>\n",
       "str\n",
       "</td>\n",
       "</tr>\n",
       "</thead>\n",
       "<tbody>\n",
       "<tr>\n",
       "<td>\n",
       "1\n",
       "</td>\n",
       "<td>\n",
       "null\n",
       "</td>\n",
       "</tr>\n",
       "<tr>\n",
       "<td>\n",
       "2\n",
       "</td>\n",
       "<td>\n",
       "&quot;bak&quot;\n",
       "</td>\n",
       "</tr>\n",
       "<tr>\n",
       "<td>\n",
       "3\n",
       "</td>\n",
       "<td>\n",
       "&quot;zip&quot;\n",
       "</td>\n",
       "</tr>\n",
       "</tbody>\n",
       "</table>\n",
       "</div>"
      ],
      "text/plain": [
       "shape: (3, 2)\n",
       "┌─────┬──────┐\n",
       "│ foo ┆ bar  │\n",
       "│ --- ┆ ---  │\n",
       "│ i64 ┆ str  │\n",
       "╞═════╪══════╡\n",
       "│ 1   ┆ null │\n",
       "│ 2   ┆ bak  │\n",
       "│ 3   ┆ zip  │\n",
       "└─────┴──────┘"
      ]
     },
     "execution_count": 25,
     "metadata": {},
     "output_type": "execute_result"
    },
    {
     "data": {
      "text/html": [
       "<div>\n",
       "<style>\n",
       ".pl-dataframe > thead > tr > th {\n",
       "  text-align: right;\n",
       "}\n",
       "</style>\n",
       "\n",
       "<table border=\"1\" class=\"dataframe pl-dataframe\">\n",
       "<small>shape: (3, 2)</small>\n",
       "<thead>\n",
       "<tr>\n",
       "<th>\n",
       "foo\n",
       "</th>\n",
       "<th>\n",
       "bar\n",
       "</th>\n",
       "</tr>\n",
       "<tr>\n",
       "<td>\n",
       "i64\n",
       "</td>\n",
       "<td>\n",
       "str\n",
       "</td>\n",
       "</tr>\n",
       "</thead>\n",
       "<tbody>\n",
       "<tr>\n",
       "<td>\n",
       "1\n",
       "</td>\n",
       "<td>\n",
       "null\n",
       "</td>\n",
       "</tr>\n",
       "<tr>\n",
       "<td>\n",
       "2\n",
       "</td>\n",
       "<td>\n",
       "&quot;bak&quot;\n",
       "</td>\n",
       "</tr>\n",
       "<tr>\n",
       "<td>\n",
       "3\n",
       "</td>\n",
       "<td>\n",
       "&quot;zip&quot;\n",
       "</td>\n",
       "</tr>\n",
       "</tbody>\n",
       "</table>\n",
       "</div>"
      ],
      "text/plain": [
       "shape: (3, 2)\n",
       "┌─────┬──────┐\n",
       "│ foo ┆ bar  │\n",
       "│ --- ┆ ---  │\n",
       "│ i64 ┆ str  │\n",
       "╞═════╪══════╡\n",
       "│ 1   ┆ null │\n",
       "│ 2   ┆ bak  │\n",
       "│ 3   ┆ zip  │\n",
       "└─────┴──────┘"
      ]
     },
     "execution_count": 56,
     "metadata": {},
     "output_type": "execute_result"
    }
   ],
   "source": [
    "df_p.head()"
   ]
  },
  {
   "cell_type": "code",
   "execution_count": 57,
   "metadata": {},
   "outputs": [],
   "source": [
    "agg_polars = (\n",
    "    df_polars.groupby(\"State\")\n",
    "    .agg(pl.col([\"Electric Range\"])\n",
    "    .sum().alias(\"Total\"))\n",
    ")"
   ]
  },
  {
   "cell_type": "code",
   "execution_count": 58,
   "metadata": {},
   "outputs": [
    {
     "data": {
      "text/html": [
       "<div>\n",
       "<style>\n",
       ".pl-dataframe > thead > tr > th {\n",
       "  text-align: right;\n",
       "}\n",
       "</style>\n",
       "\n",
       "<table border=\"1\" class=\"dataframe pl-dataframe\">\n",
       "<small>shape: (5, 17)</small>\n",
       "<thead>\n",
       "<tr>\n",
       "<th>\n",
       "VIN (1-10)\n",
       "</th>\n",
       "<th>\n",
       "County\n",
       "</th>\n",
       "<th>\n",
       "City\n",
       "</th>\n",
       "<th>\n",
       "State\n",
       "</th>\n",
       "<th>\n",
       "Postal Code\n",
       "</th>\n",
       "<th>\n",
       "Model Year\n",
       "</th>\n",
       "<th>\n",
       "Make\n",
       "</th>\n",
       "<th>\n",
       "Model\n",
       "</th>\n",
       "<th>\n",
       "Electric Vehicle Type\n",
       "</th>\n",
       "<th>\n",
       "Clean Alternative Fuel Vehicle (CAFV) Eligibility\n",
       "</th>\n",
       "<th>\n",
       "Electric Range\n",
       "</th>\n",
       "<th>\n",
       "Base MSRP\n",
       "</th>\n",
       "<th>\n",
       "Legislative District\n",
       "</th>\n",
       "<th>\n",
       "DOL Vehicle ID\n",
       "</th>\n",
       "<th>\n",
       "Vehicle Location\n",
       "</th>\n",
       "<th>\n",
       "Electric Utility\n",
       "</th>\n",
       "<th>\n",
       "2020 Census Tract\n",
       "</th>\n",
       "</tr>\n",
       "<tr>\n",
       "<td>\n",
       "str\n",
       "</td>\n",
       "<td>\n",
       "str\n",
       "</td>\n",
       "<td>\n",
       "str\n",
       "</td>\n",
       "<td>\n",
       "str\n",
       "</td>\n",
       "<td>\n",
       "i64\n",
       "</td>\n",
       "<td>\n",
       "i64\n",
       "</td>\n",
       "<td>\n",
       "str\n",
       "</td>\n",
       "<td>\n",
       "str\n",
       "</td>\n",
       "<td>\n",
       "str\n",
       "</td>\n",
       "<td>\n",
       "str\n",
       "</td>\n",
       "<td>\n",
       "i64\n",
       "</td>\n",
       "<td>\n",
       "i64\n",
       "</td>\n",
       "<td>\n",
       "i64\n",
       "</td>\n",
       "<td>\n",
       "i64\n",
       "</td>\n",
       "<td>\n",
       "str\n",
       "</td>\n",
       "<td>\n",
       "str\n",
       "</td>\n",
       "<td>\n",
       "i64\n",
       "</td>\n",
       "</tr>\n",
       "</thead>\n",
       "<tbody>\n",
       "<tr>\n",
       "<td>\n",
       "&quot;5YJ3E1EA8J&quot;\n",
       "</td>\n",
       "<td>\n",
       "&quot;San Diego&quot;\n",
       "</td>\n",
       "<td>\n",
       "&quot;Oceanside&quot;\n",
       "</td>\n",
       "<td>\n",
       "&quot;CA&quot;\n",
       "</td>\n",
       "<td>\n",
       "92051\n",
       "</td>\n",
       "<td>\n",
       "2018\n",
       "</td>\n",
       "<td>\n",
       "&quot;TESLA&quot;\n",
       "</td>\n",
       "<td>\n",
       "&quot;MODEL 3&quot;\n",
       "</td>\n",
       "<td>\n",
       "&quot;Battery Electr...\n",
       "</td>\n",
       "<td>\n",
       "&quot;Clean Alternat...\n",
       "</td>\n",
       "<td>\n",
       "215\n",
       "</td>\n",
       "<td>\n",
       "0\n",
       "</td>\n",
       "<td>\n",
       "null\n",
       "</td>\n",
       "<td>\n",
       "153998050\n",
       "</td>\n",
       "<td>\n",
       "null\n",
       "</td>\n",
       "<td>\n",
       "null\n",
       "</td>\n",
       "<td>\n",
       "6073018509\n",
       "</td>\n",
       "</tr>\n",
       "<tr>\n",
       "<td>\n",
       "&quot;3FA6P0PU7H&quot;\n",
       "</td>\n",
       "<td>\n",
       "&quot;Sedgwick&quot;\n",
       "</td>\n",
       "<td>\n",
       "&quot;Derby&quot;\n",
       "</td>\n",
       "<td>\n",
       "&quot;KS&quot;\n",
       "</td>\n",
       "<td>\n",
       "67037\n",
       "</td>\n",
       "<td>\n",
       "2017\n",
       "</td>\n",
       "<td>\n",
       "&quot;FORD&quot;\n",
       "</td>\n",
       "<td>\n",
       "&quot;FUSION&quot;\n",
       "</td>\n",
       "<td>\n",
       "&quot;Plug-in Hybrid...\n",
       "</td>\n",
       "<td>\n",
       "&quot;Not eligible d...\n",
       "</td>\n",
       "<td>\n",
       "21\n",
       "</td>\n",
       "<td>\n",
       "0\n",
       "</td>\n",
       "<td>\n",
       "null\n",
       "</td>\n",
       "<td>\n",
       "138214331\n",
       "</td>\n",
       "<td>\n",
       "&quot;POINT (-97.270...\n",
       "</td>\n",
       "<td>\n",
       "null\n",
       "</td>\n",
       "<td>\n",
       "20173009801\n",
       "</td>\n",
       "</tr>\n",
       "<tr>\n",
       "<td>\n",
       "&quot;1N4AZ0CP8D&quot;\n",
       "</td>\n",
       "<td>\n",
       "&quot;Snohomish&quot;\n",
       "</td>\n",
       "<td>\n",
       "&quot;Marysville&quot;\n",
       "</td>\n",
       "<td>\n",
       "&quot;WA&quot;\n",
       "</td>\n",
       "<td>\n",
       "98271\n",
       "</td>\n",
       "<td>\n",
       "2013\n",
       "</td>\n",
       "<td>\n",
       "&quot;NISSAN&quot;\n",
       "</td>\n",
       "<td>\n",
       "&quot;LEAF&quot;\n",
       "</td>\n",
       "<td>\n",
       "&quot;Battery Electr...\n",
       "</td>\n",
       "<td>\n",
       "&quot;Clean Alternat...\n",
       "</td>\n",
       "<td>\n",
       "75\n",
       "</td>\n",
       "<td>\n",
       "0\n",
       "</td>\n",
       "<td>\n",
       "38\n",
       "</td>\n",
       "<td>\n",
       "3129059\n",
       "</td>\n",
       "<td>\n",
       "&quot;POINT (-122.19...\n",
       "</td>\n",
       "<td>\n",
       "&quot;PUGET SOUND EN...\n",
       "</td>\n",
       "<td>\n",
       "53061052805\n",
       "</td>\n",
       "</tr>\n",
       "<tr>\n",
       "<td>\n",
       "&quot;WBY8P8C58K&quot;\n",
       "</td>\n",
       "<td>\n",
       "&quot;Kitsap&quot;\n",
       "</td>\n",
       "<td>\n",
       "&quot;Bremerton&quot;\n",
       "</td>\n",
       "<td>\n",
       "&quot;WA&quot;\n",
       "</td>\n",
       "<td>\n",
       "98337\n",
       "</td>\n",
       "<td>\n",
       "2019\n",
       "</td>\n",
       "<td>\n",
       "&quot;BMW&quot;\n",
       "</td>\n",
       "<td>\n",
       "&quot;I3&quot;\n",
       "</td>\n",
       "<td>\n",
       "&quot;Plug-in Hybrid...\n",
       "</td>\n",
       "<td>\n",
       "&quot;Clean Alternat...\n",
       "</td>\n",
       "<td>\n",
       "126\n",
       "</td>\n",
       "<td>\n",
       "0\n",
       "</td>\n",
       "<td>\n",
       "26\n",
       "</td>\n",
       "<td>\n",
       "166525635\n",
       "</td>\n",
       "<td>\n",
       "&quot;POINT (-122.62...\n",
       "</td>\n",
       "<td>\n",
       "&quot;PUGET SOUND EN...\n",
       "</td>\n",
       "<td>\n",
       "53035080500\n",
       "</td>\n",
       "</tr>\n",
       "<tr>\n",
       "<td>\n",
       "&quot;5YJ3E1EA7K&quot;\n",
       "</td>\n",
       "<td>\n",
       "&quot;Snohomish&quot;\n",
       "</td>\n",
       "<td>\n",
       "&quot;Edmonds&quot;\n",
       "</td>\n",
       "<td>\n",
       "&quot;WA&quot;\n",
       "</td>\n",
       "<td>\n",
       "98026\n",
       "</td>\n",
       "<td>\n",
       "2019\n",
       "</td>\n",
       "<td>\n",
       "&quot;TESLA&quot;\n",
       "</td>\n",
       "<td>\n",
       "&quot;MODEL 3&quot;\n",
       "</td>\n",
       "<td>\n",
       "&quot;Battery Electr...\n",
       "</td>\n",
       "<td>\n",
       "&quot;Clean Alternat...\n",
       "</td>\n",
       "<td>\n",
       "220\n",
       "</td>\n",
       "<td>\n",
       "0\n",
       "</td>\n",
       "<td>\n",
       "32\n",
       "</td>\n",
       "<td>\n",
       "475248315\n",
       "</td>\n",
       "<td>\n",
       "&quot;POINT (-122.31...\n",
       "</td>\n",
       "<td>\n",
       "&quot;PUGET SOUND EN...\n",
       "</td>\n",
       "<td>\n",
       "53061050800\n",
       "</td>\n",
       "</tr>\n",
       "</tbody>\n",
       "</table>\n",
       "</div>"
      ],
      "text/plain": [
       "shape: (5, 17)\n",
       "┌──────────┬───────────┬─────────┬───────┬─────┬────────────┬────────────┬────────────┬────────────┐\n",
       "│ VIN      ┆ County    ┆ City    ┆ State ┆ ... ┆ DOL        ┆ Vehicle    ┆ Electric   ┆ 2020       │\n",
       "│ (1-10)   ┆ ---       ┆ ---     ┆ ---   ┆     ┆ Vehicle ID ┆ Location   ┆ Utility    ┆ Census     │\n",
       "│ ---      ┆ str       ┆ str     ┆ str   ┆     ┆ ---        ┆ ---        ┆ ---        ┆ Tract      │\n",
       "│ str      ┆           ┆         ┆       ┆     ┆ i64        ┆ str        ┆ str        ┆ ---        │\n",
       "│          ┆           ┆         ┆       ┆     ┆            ┆            ┆            ┆ i64        │\n",
       "╞══════════╪═══════════╪═════════╪═══════╪═════╪════════════╪════════════╪════════════╪════════════╡\n",
       "│ 5YJ3E1EA ┆ San Diego ┆ Oceansi ┆ CA    ┆ ... ┆ 153998050  ┆ null       ┆ null       ┆ 6073018509 │\n",
       "│ 8J       ┆           ┆ de      ┆       ┆     ┆            ┆            ┆            ┆            │\n",
       "│ 3FA6P0PU ┆ Sedgwick  ┆ Derby   ┆ KS    ┆ ... ┆ 138214331  ┆ POINT      ┆ null       ┆ 2017300980 │\n",
       "│ 7H       ┆           ┆         ┆       ┆     ┆            ┆ (-97.27013 ┆            ┆ 1          │\n",
       "│          ┆           ┆         ┆       ┆     ┆            ┆ 37.54531)  ┆            ┆            │\n",
       "│ 1N4AZ0CP ┆ Snohomish ┆ Marysvi ┆ WA    ┆ ... ┆ 3129059    ┆ POINT (-12 ┆ PUGET      ┆ 5306105280 │\n",
       "│ 8D       ┆           ┆ lle     ┆       ┆     ┆            ┆ 2.19388    ┆ SOUND      ┆ 5          │\n",
       "│          ┆           ┆         ┆       ┆     ┆            ┆ 48.15353)  ┆ ENERGY INC ┆            │\n",
       "│ WBY8P8C5 ┆ Kitsap    ┆ Bremert ┆ WA    ┆ ... ┆ 166525635  ┆ POINT (-12 ┆ PUGET      ┆ 5303508050 │\n",
       "│ 8K       ┆           ┆ on      ┆       ┆     ┆            ┆ 2.62749    ┆ SOUND      ┆ 0          │\n",
       "│          ┆           ┆         ┆       ┆     ┆            ┆ 47.565)    ┆ ENERGY INC ┆            │\n",
       "│ 5YJ3E1EA ┆ Snohomish ┆ Edmonds ┆ WA    ┆ ... ┆ 475248315  ┆ POINT (-12 ┆ PUGET      ┆ 5306105080 │\n",
       "│ 7K       ┆           ┆         ┆       ┆     ┆            ┆ 2.31768    ┆ SOUND      ┆ 0          │\n",
       "│          ┆           ┆         ┆       ┆     ┆            ┆ 47.87166)  ┆ ENERGY INC ┆            │\n",
       "└──────────┴───────────┴─────────┴───────┴─────┴────────────┴────────────┴────────────┴────────────┘"
      ]
     },
     "execution_count": 27,
     "metadata": {},
     "output_type": "execute_result"
    },
    {
     "data": {
      "text/html": [
       "<div>\n",
       "<style>\n",
       ".pl-dataframe > thead > tr > th {\n",
       "  text-align: right;\n",
       "}\n",
       "</style>\n",
       "\n",
       "<table border=\"1\" class=\"dataframe pl-dataframe\">\n",
       "<small>shape: (5, 17)</small>\n",
       "<thead>\n",
       "<tr>\n",
       "<th>\n",
       "VIN (1-10)\n",
       "</th>\n",
       "<th>\n",
       "County\n",
       "</th>\n",
       "<th>\n",
       "City\n",
       "</th>\n",
       "<th>\n",
       "State\n",
       "</th>\n",
       "<th>\n",
       "Postal Code\n",
       "</th>\n",
       "<th>\n",
       "Model Year\n",
       "</th>\n",
       "<th>\n",
       "Make\n",
       "</th>\n",
       "<th>\n",
       "Model\n",
       "</th>\n",
       "<th>\n",
       "Electric Vehicle Type\n",
       "</th>\n",
       "<th>\n",
       "Clean Alternative Fuel Vehicle (CAFV) Eligibility\n",
       "</th>\n",
       "<th>\n",
       "Electric Range\n",
       "</th>\n",
       "<th>\n",
       "Base MSRP\n",
       "</th>\n",
       "<th>\n",
       "Legislative District\n",
       "</th>\n",
       "<th>\n",
       "DOL Vehicle ID\n",
       "</th>\n",
       "<th>\n",
       "Vehicle Location\n",
       "</th>\n",
       "<th>\n",
       "Electric Utility\n",
       "</th>\n",
       "<th>\n",
       "2020 Census Tract\n",
       "</th>\n",
       "</tr>\n",
       "<tr>\n",
       "<td>\n",
       "str\n",
       "</td>\n",
       "<td>\n",
       "str\n",
       "</td>\n",
       "<td>\n",
       "str\n",
       "</td>\n",
       "<td>\n",
       "str\n",
       "</td>\n",
       "<td>\n",
       "i64\n",
       "</td>\n",
       "<td>\n",
       "i64\n",
       "</td>\n",
       "<td>\n",
       "str\n",
       "</td>\n",
       "<td>\n",
       "str\n",
       "</td>\n",
       "<td>\n",
       "str\n",
       "</td>\n",
       "<td>\n",
       "str\n",
       "</td>\n",
       "<td>\n",
       "i64\n",
       "</td>\n",
       "<td>\n",
       "i64\n",
       "</td>\n",
       "<td>\n",
       "i64\n",
       "</td>\n",
       "<td>\n",
       "i64\n",
       "</td>\n",
       "<td>\n",
       "str\n",
       "</td>\n",
       "<td>\n",
       "str\n",
       "</td>\n",
       "<td>\n",
       "i64\n",
       "</td>\n",
       "</tr>\n",
       "</thead>\n",
       "<tbody>\n",
       "<tr>\n",
       "<td>\n",
       "&quot;5YJ3E1EA8J&quot;\n",
       "</td>\n",
       "<td>\n",
       "&quot;San Diego&quot;\n",
       "</td>\n",
       "<td>\n",
       "&quot;Oceanside&quot;\n",
       "</td>\n",
       "<td>\n",
       "&quot;CA&quot;\n",
       "</td>\n",
       "<td>\n",
       "92051\n",
       "</td>\n",
       "<td>\n",
       "2018\n",
       "</td>\n",
       "<td>\n",
       "&quot;TESLA&quot;\n",
       "</td>\n",
       "<td>\n",
       "&quot;MODEL 3&quot;\n",
       "</td>\n",
       "<td>\n",
       "&quot;Battery Electr...\n",
       "</td>\n",
       "<td>\n",
       "&quot;Clean Alternat...\n",
       "</td>\n",
       "<td>\n",
       "215\n",
       "</td>\n",
       "<td>\n",
       "0\n",
       "</td>\n",
       "<td>\n",
       "null\n",
       "</td>\n",
       "<td>\n",
       "153998050\n",
       "</td>\n",
       "<td>\n",
       "null\n",
       "</td>\n",
       "<td>\n",
       "null\n",
       "</td>\n",
       "<td>\n",
       "6073018509\n",
       "</td>\n",
       "</tr>\n",
       "<tr>\n",
       "<td>\n",
       "&quot;3FA6P0PU7H&quot;\n",
       "</td>\n",
       "<td>\n",
       "&quot;Sedgwick&quot;\n",
       "</td>\n",
       "<td>\n",
       "&quot;Derby&quot;\n",
       "</td>\n",
       "<td>\n",
       "&quot;KS&quot;\n",
       "</td>\n",
       "<td>\n",
       "67037\n",
       "</td>\n",
       "<td>\n",
       "2017\n",
       "</td>\n",
       "<td>\n",
       "&quot;FORD&quot;\n",
       "</td>\n",
       "<td>\n",
       "&quot;FUSION&quot;\n",
       "</td>\n",
       "<td>\n",
       "&quot;Plug-in Hybrid...\n",
       "</td>\n",
       "<td>\n",
       "&quot;Not eligible d...\n",
       "</td>\n",
       "<td>\n",
       "21\n",
       "</td>\n",
       "<td>\n",
       "0\n",
       "</td>\n",
       "<td>\n",
       "null\n",
       "</td>\n",
       "<td>\n",
       "138214331\n",
       "</td>\n",
       "<td>\n",
       "&quot;POINT (-97.270...\n",
       "</td>\n",
       "<td>\n",
       "null\n",
       "</td>\n",
       "<td>\n",
       "20173009801\n",
       "</td>\n",
       "</tr>\n",
       "<tr>\n",
       "<td>\n",
       "&quot;1N4AZ0CP8D&quot;\n",
       "</td>\n",
       "<td>\n",
       "&quot;Snohomish&quot;\n",
       "</td>\n",
       "<td>\n",
       "&quot;Marysville&quot;\n",
       "</td>\n",
       "<td>\n",
       "&quot;WA&quot;\n",
       "</td>\n",
       "<td>\n",
       "98271\n",
       "</td>\n",
       "<td>\n",
       "2013\n",
       "</td>\n",
       "<td>\n",
       "&quot;NISSAN&quot;\n",
       "</td>\n",
       "<td>\n",
       "&quot;LEAF&quot;\n",
       "</td>\n",
       "<td>\n",
       "&quot;Battery Electr...\n",
       "</td>\n",
       "<td>\n",
       "&quot;Clean Alternat...\n",
       "</td>\n",
       "<td>\n",
       "75\n",
       "</td>\n",
       "<td>\n",
       "0\n",
       "</td>\n",
       "<td>\n",
       "38\n",
       "</td>\n",
       "<td>\n",
       "3129059\n",
       "</td>\n",
       "<td>\n",
       "&quot;POINT (-122.19...\n",
       "</td>\n",
       "<td>\n",
       "&quot;PUGET SOUND EN...\n",
       "</td>\n",
       "<td>\n",
       "53061052805\n",
       "</td>\n",
       "</tr>\n",
       "<tr>\n",
       "<td>\n",
       "&quot;WBY8P8C58K&quot;\n",
       "</td>\n",
       "<td>\n",
       "&quot;Kitsap&quot;\n",
       "</td>\n",
       "<td>\n",
       "&quot;Bremerton&quot;\n",
       "</td>\n",
       "<td>\n",
       "&quot;WA&quot;\n",
       "</td>\n",
       "<td>\n",
       "98337\n",
       "</td>\n",
       "<td>\n",
       "2019\n",
       "</td>\n",
       "<td>\n",
       "&quot;BMW&quot;\n",
       "</td>\n",
       "<td>\n",
       "&quot;I3&quot;\n",
       "</td>\n",
       "<td>\n",
       "&quot;Plug-in Hybrid...\n",
       "</td>\n",
       "<td>\n",
       "&quot;Clean Alternat...\n",
       "</td>\n",
       "<td>\n",
       "126\n",
       "</td>\n",
       "<td>\n",
       "0\n",
       "</td>\n",
       "<td>\n",
       "26\n",
       "</td>\n",
       "<td>\n",
       "166525635\n",
       "</td>\n",
       "<td>\n",
       "&quot;POINT (-122.62...\n",
       "</td>\n",
       "<td>\n",
       "&quot;PUGET SOUND EN...\n",
       "</td>\n",
       "<td>\n",
       "53035080500\n",
       "</td>\n",
       "</tr>\n",
       "<tr>\n",
       "<td>\n",
       "&quot;5YJ3E1EA7K&quot;\n",
       "</td>\n",
       "<td>\n",
       "&quot;Snohomish&quot;\n",
       "</td>\n",
       "<td>\n",
       "&quot;Edmonds&quot;\n",
       "</td>\n",
       "<td>\n",
       "&quot;WA&quot;\n",
       "</td>\n",
       "<td>\n",
       "98026\n",
       "</td>\n",
       "<td>\n",
       "2019\n",
       "</td>\n",
       "<td>\n",
       "&quot;TESLA&quot;\n",
       "</td>\n",
       "<td>\n",
       "&quot;MODEL 3&quot;\n",
       "</td>\n",
       "<td>\n",
       "&quot;Battery Electr...\n",
       "</td>\n",
       "<td>\n",
       "&quot;Clean Alternat...\n",
       "</td>\n",
       "<td>\n",
       "220\n",
       "</td>\n",
       "<td>\n",
       "0\n",
       "</td>\n",
       "<td>\n",
       "32\n",
       "</td>\n",
       "<td>\n",
       "475248315\n",
       "</td>\n",
       "<td>\n",
       "&quot;POINT (-122.31...\n",
       "</td>\n",
       "<td>\n",
       "&quot;PUGET SOUND EN...\n",
       "</td>\n",
       "<td>\n",
       "53061050800\n",
       "</td>\n",
       "</tr>\n",
       "</tbody>\n",
       "</table>\n",
       "</div>"
      ],
      "text/plain": [
       "shape: (5, 17)\n",
       "┌──────────┬───────────┬─────────┬───────┬─────┬────────────┬────────────┬────────────┬────────────┐\n",
       "│ VIN      ┆ County    ┆ City    ┆ State ┆ ... ┆ DOL        ┆ Vehicle    ┆ Electric   ┆ 2020       │\n",
       "│ (1-10)   ┆ ---       ┆ ---     ┆ ---   ┆     ┆ Vehicle ID ┆ Location   ┆ Utility    ┆ Census     │\n",
       "│ ---      ┆ str       ┆ str     ┆ str   ┆     ┆ ---        ┆ ---        ┆ ---        ┆ Tract      │\n",
       "│ str      ┆           ┆         ┆       ┆     ┆ i64        ┆ str        ┆ str        ┆ ---        │\n",
       "│          ┆           ┆         ┆       ┆     ┆            ┆            ┆            ┆ i64        │\n",
       "╞══════════╪═══════════╪═════════╪═══════╪═════╪════════════╪════════════╪════════════╪════════════╡\n",
       "│ 5YJ3E1EA ┆ San Diego ┆ Oceansi ┆ CA    ┆ ... ┆ 153998050  ┆ null       ┆ null       ┆ 6073018509 │\n",
       "│ 8J       ┆           ┆ de      ┆       ┆     ┆            ┆            ┆            ┆            │\n",
       "│ 3FA6P0PU ┆ Sedgwick  ┆ Derby   ┆ KS    ┆ ... ┆ 138214331  ┆ POINT      ┆ null       ┆ 2017300980 │\n",
       "│ 7H       ┆           ┆         ┆       ┆     ┆            ┆ (-97.27013 ┆            ┆ 1          │\n",
       "│          ┆           ┆         ┆       ┆     ┆            ┆ 37.54531)  ┆            ┆            │\n",
       "│ 1N4AZ0CP ┆ Snohomish ┆ Marysvi ┆ WA    ┆ ... ┆ 3129059    ┆ POINT (-12 ┆ PUGET      ┆ 5306105280 │\n",
       "│ 8D       ┆           ┆ lle     ┆       ┆     ┆            ┆ 2.19388    ┆ SOUND      ┆ 5          │\n",
       "│          ┆           ┆         ┆       ┆     ┆            ┆ 48.15353)  ┆ ENERGY INC ┆            │\n",
       "│ WBY8P8C5 ┆ Kitsap    ┆ Bremert ┆ WA    ┆ ... ┆ 166525635  ┆ POINT (-12 ┆ PUGET      ┆ 5303508050 │\n",
       "│ 8K       ┆           ┆ on      ┆       ┆     ┆            ┆ 2.62749    ┆ SOUND      ┆ 0          │\n",
       "│          ┆           ┆         ┆       ┆     ┆            ┆ 47.565)    ┆ ENERGY INC ┆            │\n",
       "│ 5YJ3E1EA ┆ Snohomish ┆ Edmonds ┆ WA    ┆ ... ┆ 475248315  ┆ POINT (-12 ┆ PUGET      ┆ 5306105080 │\n",
       "│ 7K       ┆           ┆         ┆       ┆     ┆            ┆ 2.31768    ┆ SOUND      ┆ 0          │\n",
       "│          ┆           ┆         ┆       ┆     ┆            ┆ 47.87166)  ┆ ENERGY INC ┆            │\n",
       "└──────────┴───────────┴─────────┴───────┴─────┴────────────┴────────────┴────────────┴────────────┘"
      ]
     },
     "execution_count": 58,
     "metadata": {},
     "output_type": "execute_result"
    }
   ],
   "source": [
    "df_polars.head()"
   ]
  },
  {
   "cell_type": "code",
   "execution_count": 59,
   "metadata": {},
   "outputs": [
    {
     "data": {
      "text/plain": [
       "VIN (1-10)                                           118959\n",
       "County                                               118957\n",
       "City                                                 118957\n",
       "State                                                118959\n",
       "Postal Code                                          118957\n",
       "Model Year                                           118959\n",
       "Make                                                 118959\n",
       "Model                                                118826\n",
       "Electric Vehicle Type                                118959\n",
       "Clean Alternative Fuel Vehicle (CAFV) Eligibility    118959\n",
       "Electric Range                                       118959\n",
       "Base MSRP                                            118959\n",
       "Legislative District                                 118665\n",
       "DOL Vehicle ID                                       118959\n",
       "Vehicle Location                                     118926\n",
       "Electric Utility                                     118497\n",
       "2020 Census Tract                                    118957\n",
       "dtype: int64"
      ]
     },
     "execution_count": 28,
     "metadata": {},
     "output_type": "execute_result"
    },
    {
     "data": {
      "text/plain": [
       "VIN (1-10)                                           118959\n",
       "County                                               118957\n",
       "City                                                 118957\n",
       "State                                                118959\n",
       "Postal Code                                          118957\n",
       "Model Year                                           118959\n",
       "Make                                                 118959\n",
       "Model                                                118826\n",
       "Electric Vehicle Type                                118959\n",
       "Clean Alternative Fuel Vehicle (CAFV) Eligibility    118959\n",
       "Electric Range                                       118959\n",
       "Base MSRP                                            118959\n",
       "Legislative District                                 118665\n",
       "DOL Vehicle ID                                       118959\n",
       "Vehicle Location                                     118926\n",
       "Electric Utility                                     118497\n",
       "2020 Census Tract                                    118957\n",
       "dtype: int64"
      ]
     },
     "execution_count": 59,
     "metadata": {},
     "output_type": "execute_result"
    }
   ],
   "source": [
    "df.count()"
   ]
  },
  {
   "cell_type": "code",
   "execution_count": 60,
   "metadata": {},
   "outputs": [
    {
     "data": {
      "text/html": [
       "<div>\n",
       "<style>\n",
       ".pl-dataframe > thead > tr > th {\n",
       "  text-align: right;\n",
       "}\n",
       "</style>\n",
       "\n",
       "<table border=\"1\" class=\"dataframe pl-dataframe\">\n",
       "<small>shape: (5, 2)</small>\n",
       "<thead>\n",
       "<tr>\n",
       "<th>\n",
       "State\n",
       "</th>\n",
       "<th>\n",
       "Total\n",
       "</th>\n",
       "</tr>\n",
       "<tr>\n",
       "<td>\n",
       "str\n",
       "</td>\n",
       "<td>\n",
       "i64\n",
       "</td>\n",
       "</tr>\n",
       "</thead>\n",
       "<tbody>\n",
       "<tr>\n",
       "<td>\n",
       "&quot;NH&quot;\n",
       "</td>\n",
       "<td>\n",
       "308\n",
       "</td>\n",
       "</tr>\n",
       "<tr>\n",
       "<td>\n",
       "&quot;NE&quot;\n",
       "</td>\n",
       "<td>\n",
       "577\n",
       "</td>\n",
       "</tr>\n",
       "<tr>\n",
       "<td>\n",
       "&quot;LA&quot;\n",
       "</td>\n",
       "<td>\n",
       "72\n",
       "</td>\n",
       "</tr>\n",
       "<tr>\n",
       "<td>\n",
       "&quot;MN&quot;\n",
       "</td>\n",
       "<td>\n",
       "220\n",
       "</td>\n",
       "</tr>\n",
       "<tr>\n",
       "<td>\n",
       "&quot;MO&quot;\n",
       "</td>\n",
       "<td>\n",
       "629\n",
       "</td>\n",
       "</tr>\n",
       "</tbody>\n",
       "</table>\n",
       "</div>"
      ],
      "text/plain": [
       "shape: (5, 2)\n",
       "┌───────┬───────┐\n",
       "│ State ┆ Total │\n",
       "│ ---   ┆ ---   │\n",
       "│ str   ┆ i64   │\n",
       "╞═══════╪═══════╡\n",
       "│ NH    ┆ 308   │\n",
       "│ NE    ┆ 577   │\n",
       "│ LA    ┆ 72    │\n",
       "│ MN    ┆ 220   │\n",
       "│ MO    ┆ 629   │\n",
       "└───────┴───────┘"
      ]
     },
     "execution_count": 29,
     "metadata": {},
     "output_type": "execute_result"
    },
    {
     "data": {
      "text/html": [
       "<div>\n",
       "<style>\n",
       ".pl-dataframe > thead > tr > th {\n",
       "  text-align: right;\n",
       "}\n",
       "</style>\n",
       "\n",
       "<table border=\"1\" class=\"dataframe pl-dataframe\">\n",
       "<small>shape: (5, 2)</small>\n",
       "<thead>\n",
       "<tr>\n",
       "<th>\n",
       "State\n",
       "</th>\n",
       "<th>\n",
       "Total\n",
       "</th>\n",
       "</tr>\n",
       "<tr>\n",
       "<td>\n",
       "str\n",
       "</td>\n",
       "<td>\n",
       "i64\n",
       "</td>\n",
       "</tr>\n",
       "</thead>\n",
       "<tbody>\n",
       "<tr>\n",
       "<td>\n",
       "&quot;KS&quot;\n",
       "</td>\n",
       "<td>\n",
       "35\n",
       "</td>\n",
       "</tr>\n",
       "<tr>\n",
       "<td>\n",
       "&quot;AK&quot;\n",
       "</td>\n",
       "<td>\n",
       "19\n",
       "</td>\n",
       "</tr>\n",
       "<tr>\n",
       "<td>\n",
       "&quot;VA&quot;\n",
       "</td>\n",
       "<td>\n",
       "3716\n",
       "</td>\n",
       "</tr>\n",
       "<tr>\n",
       "<td>\n",
       "&quot;DC&quot;\n",
       "</td>\n",
       "<td>\n",
       "783\n",
       "</td>\n",
       "</tr>\n",
       "<tr>\n",
       "<td>\n",
       "&quot;OH&quot;\n",
       "</td>\n",
       "<td>\n",
       "0\n",
       "</td>\n",
       "</tr>\n",
       "</tbody>\n",
       "</table>\n",
       "</div>"
      ],
      "text/plain": [
       "shape: (5, 2)\n",
       "┌───────┬───────┐\n",
       "│ State ┆ Total │\n",
       "│ ---   ┆ ---   │\n",
       "│ str   ┆ i64   │\n",
       "╞═══════╪═══════╡\n",
       "│ KS    ┆ 35    │\n",
       "│ AK    ┆ 19    │\n",
       "│ VA    ┆ 3716  │\n",
       "│ DC    ┆ 783   │\n",
       "│ OH    ┆ 0     │\n",
       "└───────┴───────┘"
      ]
     },
     "execution_count": 60,
     "metadata": {},
     "output_type": "execute_result"
    }
   ],
   "source": [
    "agg_polars.head()"
   ]
  },
  {
   "cell_type": "code",
   "execution_count": null,
   "metadata": {
    "pycharm": {
     "is_executing": true
    }
   },
   "outputs": [],
   "source": [
    "agg_df = agg_polars.to_pandas()"
   ]
  },
  {
   "cell_type": "code",
   "execution_count": 62,
   "metadata": {},
   "outputs": [
    {
     "data": {
      "text/plain": [
       "<Axes: title={'center': 'Top Electric Range'}, ylabel='State'>"
      ]
     },
     "execution_count": 31,
     "metadata": {},
     "output_type": "execute_result"
    },
    {
     "data": {
      "image/png": "[encoded data removed]",
      "text/plain": [
       "<Figure size 640x480 with 1 Axes>"
      ]
     },
     "metadata": {},
     "output_type": "display_data"
    },
    {
     "data": {
      "text/plain": [
       "<Axes: title={'center': 'Top Electric Range'}, ylabel='State'>"
      ]
     },
     "execution_count": 62,
     "metadata": {},
     "output_type": "execute_result"
    },
    {
     "data": {
      "image/png": "[encoded data removed]",
      "text/plain": [
       "<Figure size 640x480 with 1 Axes>"
      ]
     },
     "metadata": {},
     "output_type": "display_data"
    }
   ],
   "source": [
    "agg_df.set_index(\"State\") \\\n",
    "    .sort_values(\"Total\", ascending=False) \\\n",
    "    .head(15) \\\n",
    "    .sort_values(\"Total\") \\\n",
    "    .plot(kind=\"barh\", title=\"Top Electric Range\")"
   ]
  },
  {
   "cell_type": "code",
   "execution_count": 62,
   "metadata": {},
   "outputs": [],
   "source": []
  }
 ],
 "metadata": {
  "kernelspec": {
   "display_name": "Python 3 (ipykernel)",
   "language": "python",
   "name": "python3"
  },
  "language_info": {
   "codemirror_mode": {
    "name": "ipython",
    "version": 3
   },
   "file_extension": ".py",
   "mimetype": "text/x-python",
   "name": "python",
   "nbconvert_exporter": "python",
   "pygments_lexer": "ipython3",
   "version": "3.11.3"
  }
 },
 "nbformat": 4,
 "nbformat_minor": 1
}
